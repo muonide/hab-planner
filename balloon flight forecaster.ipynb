{
 "cells": [
  {
   "cell_type": "markdown",
   "metadata": {},
   "source": [
    "Balloon Flight Prediction Tool\n",
    "\n"
   ]
  },
  {
   "cell_type": "code",
   "execution_count": 1,
   "metadata": {
    "slideshow": {
     "slide_type": "-"
    }
   },
   "outputs": [
    {
     "name": "stderr",
     "output_type": "stream",
     "text": [
      "C:\\Users\\bcarroll\\AppData\\Local\\Continuum\\anaconda3\\lib\\site-packages\\deap-1.2.2-py3.6.egg\\deap\\tools\\_hypervolume\\pyhv.py:33: ImportWarning: Falling back to the python version of hypervolume module. Expect this to be very slow.\n"
     ]
    }
   ],
   "source": [
    "import sys\n",
    "import os\n",
    "import pathlib\n",
    "import xml.dom.minidom as md\n",
    "from pathlib import Path\n",
    "import kml2geojson as kg\n",
    "import folium\n",
    "import json\n",
    "import geojson\n",
    "from folium import plugins\n",
    "from folium.plugins import HeatMap\n",
    "import numpy as np\n",
    "from datetime import datetime, timedelta, time\n",
    "from astra.simulator import *\n",
    "import statistics\n",
    "from math import sin, cos, sqrt, atan2, radians\n",
    "import matplotlib.pyplot as plt"
   ]
  },
  {
   "cell_type": "code",
   "execution_count": 2,
   "metadata": {},
   "outputs": [],
   "source": [
    "#\n"
   ]
  },
  {
   "cell_type": "code",
   "execution_count": 3,
   "metadata": {
    "collapsed": true
   },
   "outputs": [],
   "source": [
    "np.random.seed(62)\n",
    "\n",
    "R = 6373.0"
   ]
  },
  {
   "cell_type": "code",
   "execution_count": null,
   "metadata": {},
   "outputs": [],
   "source": []
  },
  {
   "cell_type": "markdown",
   "metadata": {},
   "source": [
    "add check to ensure balloon will burst before running set of trajectories"
   ]
  },
  {
   "cell_type": "code",
   "execution_count": 4,
   "metadata": {},
   "outputs": [
    {
     "name": "stderr",
     "output_type": "stream",
     "text": [
      "2018-11-22 13:14:25,769.769 DEBUG:astra.weather Fetched time zone data about the launch site: UTC offset is 0.000000 hours\n",
      "2018-11-22 13:14:25,772.772 DEBUG:astra.weather Using UTC time 22/11/18 13:14\n",
      "2018-11-22 13:14:25,776.776 INFO:astra.weather Preparing to download weather data for parameters:\n",
      "2018-11-22 13:14:25,781.781 DEBUG:astra.weather     Launch site Latitude: 35.3973\n",
      "2018-11-22 13:14:25,786.786 DEBUG:astra.weather     Launch site Longitude: -90.9965\n",
      "2018-11-22 13:14:25,789.789 DEBUG:astra.weather     Launch time: 2018-11-22 13:14:24.436945\n",
      "2018-11-22 13:14:25,792.792 DEBUG:astra.GFS Attempting to download cycle data.\n",
      "2018-11-22 13:14:25,796.796 DEBUG:astra.GFS Requesting URL: http://nomads.ncep.noaa.gov:9090/dods/gfs_0p50/gfs20181122/gfs_0p50_12z.ascii?tmpprs[0:1][0:46][244:256][526:550]\n"
     ]
    },
    {
     "name": "stdout",
     "output_type": "stream",
     "text": [
      "Downloading weather forecast: 0%"
     ]
    },
    {
     "name": "stderr",
     "output_type": "stream",
     "text": [
      "2018-11-22 13:14:28,307.307 DEBUG:astra.GFS Requesting weather urls asynchronously: status will be sent to requests logger\n",
      "2018-11-22 13:14:31,313.313 DEBUG:astra.GFS Updating Download progress: 25.0%% complete\n"
     ]
    },
    {
     "name": "stdout",
     "output_type": "stream",
     "text": [
      "\r",
      "Downloading weather forecast: 25%"
     ]
    },
    {
     "name": "stderr",
     "output_type": "stream",
     "text": [
      "2018-11-22 13:14:32,527.527 DEBUG:astra.GFS Updating Download progress: 50.0%% complete\n"
     ]
    },
    {
     "name": "stdout",
     "output_type": "stream",
     "text": [
      "\r",
      "Downloading weather forecast: 50%"
     ]
    },
    {
     "name": "stderr",
     "output_type": "stream",
     "text": [
      "2018-11-22 13:14:33,977.977 DEBUG:astra.GFS Updating Download progress: 75.0%% complete\n"
     ]
    },
    {
     "name": "stdout",
     "output_type": "stream",
     "text": [
      "\r",
      "Downloading weather forecast: 75%"
     ]
    },
    {
     "name": "stderr",
     "output_type": "stream",
     "text": [
      "2018-11-22 13:14:36,627.627 DEBUG:astra.GFS Updating Download progress: 100.0%% complete\n"
     ]
    },
    {
     "name": "stdout",
     "output_type": "stream",
     "text": [
      "\r",
      "Downloading weather forecast. 100%\n",
      "Weather downloaded.\n"
     ]
    },
    {
     "name": "stderr",
     "output_type": "stream",
     "text": [
      "2018-11-22 13:14:37,713.713 DEBUG:astra.GFS Forecast successfully downloaded!\n",
      "2018-11-22 13:14:37,715.715 DEBUG:astra.weather GFS data successfully downloaded.\n"
     ]
    },
    {
     "name": "stdout",
     "output_type": "stream",
     "text": [
      "Preparing simulation\n",
      "The simulation is running. Current progress: 99%data\\balloon_track0_markers.kml\n",
      "The simulation is running. Current progress: 100%\n",
      "Simulation completed.\n"
     ]
    },
    {
     "name": "stderr",
     "output_type": "stream",
     "text": [
      "2018-11-22 13:16:18,210.210 DEBUG:astra.weather Fetched time zone data about the launch site: UTC offset is 0.000000 hours\n",
      "2018-11-22 13:16:18,213.213 DEBUG:astra.weather Using UTC time 23/11/18 13:16\n",
      "2018-11-22 13:16:18,217.217 INFO:astra.weather Preparing to download weather data for parameters:\n",
      "2018-11-22 13:16:18,221.221 DEBUG:astra.weather     Launch site Latitude: 35.3973\n",
      "2018-11-22 13:16:18,226.226 DEBUG:astra.weather     Launch site Longitude: -90.9965\n",
      "2018-11-22 13:16:18,229.229 DEBUG:astra.weather     Launch time: 2018-11-23 13:16:17.843524\n",
      "2018-11-22 13:16:18,232.232 DEBUG:astra.GFS Attempting to download cycle data.\n",
      "2018-11-22 13:16:18,234.234 DEBUG:astra.GFS Requesting URL: http://nomads.ncep.noaa.gov:9090/dods/gfs_0p50/gfs20181122/gfs_0p50_12z.ascii?tmpprs[8:9][0:46][244:256][526:550]\n"
     ]
    },
    {
     "name": "stdout",
     "output_type": "stream",
     "text": [
      "Downloading weather forecast: 0%"
     ]
    },
    {
     "name": "stderr",
     "output_type": "stream",
     "text": [
      "2018-11-22 13:16:21,898.898 DEBUG:astra.GFS Requesting weather urls asynchronously: status will be sent to requests logger\n",
      "2018-11-22 13:16:25,171.171 DEBUG:astra.GFS Updating Download progress: 25.0%% complete\n"
     ]
    },
    {
     "name": "stdout",
     "output_type": "stream",
     "text": [
      "\r",
      "Downloading weather forecast: 25%"
     ]
    },
    {
     "name": "stderr",
     "output_type": "stream",
     "text": [
      "2018-11-22 13:16:25,178.178 DEBUG:astra.GFS Updating Download progress: 50.0%% complete\n"
     ]
    },
    {
     "name": "stdout",
     "output_type": "stream",
     "text": [
      "\r",
      "Downloading weather forecast: 50%"
     ]
    },
    {
     "name": "stderr",
     "output_type": "stream",
     "text": [
      "2018-11-22 13:16:25,220.220 DEBUG:astra.GFS Updating Download progress: 75.0%% complete\n"
     ]
    },
    {
     "name": "stdout",
     "output_type": "stream",
     "text": [
      "\r",
      "Downloading weather forecast: 75%"
     ]
    },
    {
     "name": "stderr",
     "output_type": "stream",
     "text": [
      "2018-11-22 13:16:25,950.950 DEBUG:astra.GFS Updating Download progress: 100.0%% complete\n"
     ]
    },
    {
     "name": "stdout",
     "output_type": "stream",
     "text": [
      "\r",
      "Downloading weather forecast. 100%\n",
      "Weather downloaded.\n"
     ]
    },
    {
     "name": "stderr",
     "output_type": "stream",
     "text": [
      "2018-11-22 13:16:26,959.959 DEBUG:astra.GFS Forecast successfully downloaded!\n",
      "2018-11-22 13:16:26,968.968 DEBUG:astra.weather GFS data successfully downloaded.\n"
     ]
    },
    {
     "name": "stdout",
     "output_type": "stream",
     "text": [
      "Preparing simulation\n",
      "The simulation is running. Current progress: 99%data\\balloon_track1_markers.kml\n",
      "The simulation is running. Current progress: 100%\n",
      "Simulation completed.\n"
     ]
    },
    {
     "name": "stderr",
     "output_type": "stream",
     "text": [
      "2018-11-22 13:18:09,006.6 DEBUG:astra.weather Fetched time zone data about the launch site: UTC offset is 0.000000 hours\n",
      "2018-11-22 13:18:09,007.7 DEBUG:astra.weather Using UTC time 24/11/18 13:18\n",
      "2018-11-22 13:18:09,009.9 INFO:astra.weather Preparing to download weather data for parameters:\n",
      "2018-11-22 13:18:09,011.11 DEBUG:astra.weather     Launch site Latitude: 35.3973\n",
      "2018-11-22 13:18:09,013.13 DEBUG:astra.weather     Launch site Longitude: -90.9965\n",
      "2018-11-22 13:18:09,015.15 DEBUG:astra.weather     Launch time: 2018-11-24 13:18:08.730846\n",
      "2018-11-22 13:18:09,016.16 DEBUG:astra.GFS Attempting to download cycle data.\n",
      "2018-11-22 13:18:09,018.18 DEBUG:astra.GFS Requesting URL: http://nomads.ncep.noaa.gov:9090/dods/gfs_0p50/gfs20181122/gfs_0p50_12z.ascii?tmpprs[16:17][0:46][244:256][526:550]\n"
     ]
    },
    {
     "name": "stdout",
     "output_type": "stream",
     "text": [
      "Downloading weather forecast: 0%"
     ]
    },
    {
     "name": "stderr",
     "output_type": "stream",
     "text": [
      "2018-11-22 13:18:12,814.814 DEBUG:astra.GFS Requesting weather urls asynchronously: status will be sent to requests logger\n",
      "2018-11-22 13:18:18,017.17 DEBUG:astra.GFS Updating Download progress: 25.0%% complete\n"
     ]
    },
    {
     "name": "stdout",
     "output_type": "stream",
     "text": [
      "\r",
      "Downloading weather forecast: 25%"
     ]
    },
    {
     "name": "stderr",
     "output_type": "stream",
     "text": [
      "2018-11-22 13:18:18,023.23 DEBUG:astra.GFS Updating Download progress: 50.0%% complete\n"
     ]
    },
    {
     "name": "stdout",
     "output_type": "stream",
     "text": [
      "\r",
      "Downloading weather forecast: 50%"
     ]
    },
    {
     "name": "stderr",
     "output_type": "stream",
     "text": [
      "2018-11-22 13:18:18,036.36 DEBUG:astra.GFS Updating Download progress: 75.0%% complete\n"
     ]
    },
    {
     "name": "stdout",
     "output_type": "stream",
     "text": [
      "\r",
      "Downloading weather forecast: 75%"
     ]
    },
    {
     "name": "stderr",
     "output_type": "stream",
     "text": [
      "2018-11-22 13:18:18,445.445 DEBUG:astra.GFS Updating Download progress: 100.0%% complete\n"
     ]
    },
    {
     "name": "stdout",
     "output_type": "stream",
     "text": [
      "\r",
      "Downloading weather forecast. 100%\n",
      "Weather downloaded.\n"
     ]
    },
    {
     "name": "stderr",
     "output_type": "stream",
     "text": [
      "2018-11-22 13:18:19,141.141 DEBUG:astra.GFS Forecast successfully downloaded!\n",
      "2018-11-22 13:18:19,141.141 DEBUG:astra.weather GFS data successfully downloaded.\n"
     ]
    },
    {
     "name": "stdout",
     "output_type": "stream",
     "text": [
      "Preparing simulation\n",
      "The simulation is running. Current progress: 99%data\\balloon_track2_markers.kml\n",
      "The simulation is running. Current progress: 100%\n",
      "Simulation completed.\n"
     ]
    },
    {
     "name": "stderr",
     "output_type": "stream",
     "text": [
      "2018-11-22 13:19:57,855.855 DEBUG:astra.weather Fetched time zone data about the launch site: UTC offset is 0.000000 hours\n",
      "2018-11-22 13:19:57,857.857 DEBUG:astra.weather Using UTC time 25/11/18 13:19\n",
      "2018-11-22 13:19:57,858.858 INFO:astra.weather Preparing to download weather data for parameters:\n",
      "2018-11-22 13:19:57,860.860 DEBUG:astra.weather     Launch site Latitude: 35.3973\n",
      "2018-11-22 13:19:57,862.862 DEBUG:astra.weather     Launch site Longitude: -90.9965\n",
      "2018-11-22 13:19:57,864.864 DEBUG:astra.weather     Launch time: 2018-11-25 13:19:57.475928\n",
      "2018-11-22 13:19:57,866.866 DEBUG:astra.GFS Attempting to download cycle data.\n",
      "2018-11-22 13:19:57,869.869 DEBUG:astra.GFS Requesting URL: http://nomads.ncep.noaa.gov:9090/dods/gfs_0p50/gfs20181122/gfs_0p50_12z.ascii?tmpprs[24:25][0:46][244:256][526:550]\n"
     ]
    },
    {
     "name": "stdout",
     "output_type": "stream",
     "text": [
      "Downloading weather forecast: 0%"
     ]
    },
    {
     "name": "stderr",
     "output_type": "stream",
     "text": [
      "2018-11-22 13:20:01,848.848 DEBUG:astra.GFS Requesting weather urls asynchronously: status will be sent to requests logger\n",
      "2018-11-22 13:20:05,336.336 DEBUG:astra.GFS Updating Download progress: 25.0%% complete\n"
     ]
    },
    {
     "name": "stdout",
     "output_type": "stream",
     "text": [
      "\r",
      "Downloading weather forecast: 25%"
     ]
    },
    {
     "name": "stderr",
     "output_type": "stream",
     "text": [
      "2018-11-22 13:20:05,341.341 DEBUG:astra.GFS Updating Download progress: 50.0%% complete\n"
     ]
    },
    {
     "name": "stdout",
     "output_type": "stream",
     "text": [
      "\r",
      "Downloading weather forecast: 50%"
     ]
    },
    {
     "name": "stderr",
     "output_type": "stream",
     "text": [
      "2018-11-22 13:20:06,360.360 DEBUG:astra.GFS Updating Download progress: 75.0%% complete\n"
     ]
    },
    {
     "name": "stdout",
     "output_type": "stream",
     "text": [
      "\r",
      "Downloading weather forecast: 75%"
     ]
    },
    {
     "name": "stderr",
     "output_type": "stream",
     "text": [
      "2018-11-22 13:20:06,774.774 DEBUG:astra.GFS Updating Download progress: 100.0%% complete\n"
     ]
    },
    {
     "name": "stdout",
     "output_type": "stream",
     "text": [
      "\r",
      "Downloading weather forecast. 100%\n",
      "Weather downloaded.\n"
     ]
    },
    {
     "name": "stderr",
     "output_type": "stream",
     "text": [
      "2018-11-22 13:20:07,501.501 DEBUG:astra.GFS Forecast successfully downloaded!\n",
      "2018-11-22 13:20:07,502.502 DEBUG:astra.weather GFS data successfully downloaded.\n"
     ]
    },
    {
     "name": "stdout",
     "output_type": "stream",
     "text": [
      "Preparing simulation\n",
      "The simulation is running. Current progress: 99%data\\balloon_track3_markers.kml\n",
      "The simulation is running. Current progress: 100%\n",
      "Simulation completed.\n"
     ]
    },
    {
     "name": "stderr",
     "output_type": "stream",
     "text": [
      "2018-11-22 13:21:48,047.47 DEBUG:astra.weather Fetched time zone data about the launch site: UTC offset is 0.000000 hours\n",
      "2018-11-22 13:21:48,048.48 DEBUG:astra.weather Using UTC time 26/11/18 13:21\n",
      "2018-11-22 13:21:48,050.50 INFO:astra.weather Preparing to download weather data for parameters:\n",
      "2018-11-22 13:21:48,052.52 DEBUG:astra.weather     Launch site Latitude: 35.3973\n",
      "2018-11-22 13:21:48,054.54 DEBUG:astra.weather     Launch site Longitude: -90.9965\n",
      "2018-11-22 13:21:48,056.56 DEBUG:astra.weather     Launch time: 2018-11-26 13:21:47.650178\n",
      "2018-11-22 13:21:48,059.59 DEBUG:astra.GFS Attempting to download cycle data.\n",
      "2018-11-22 13:21:48,061.61 DEBUG:astra.GFS Requesting URL: http://nomads.ncep.noaa.gov:9090/dods/gfs_0p50/gfs20181122/gfs_0p50_12z.ascii?tmpprs[32:33][0:46][244:256][526:550]\n"
     ]
    },
    {
     "name": "stdout",
     "output_type": "stream",
     "text": [
      "Downloading weather forecast: 0%"
     ]
    },
    {
     "name": "stderr",
     "output_type": "stream",
     "text": [
      "2018-11-22 13:21:53,083.83 DEBUG:astra.GFS Requesting weather urls asynchronously: status will be sent to requests logger\n",
      "2018-11-22 13:21:56,853.853 DEBUG:astra.GFS Updating Download progress: 25.0%% complete\n"
     ]
    },
    {
     "name": "stdout",
     "output_type": "stream",
     "text": [
      "\r",
      "Downloading weather forecast: 25%"
     ]
    },
    {
     "name": "stderr",
     "output_type": "stream",
     "text": [
      "2018-11-22 13:21:58,086.86 DEBUG:astra.GFS Updating Download progress: 50.0%% complete\n"
     ]
    },
    {
     "name": "stdout",
     "output_type": "stream",
     "text": [
      "\r",
      "Downloading weather forecast: 50%"
     ]
    },
    {
     "name": "stderr",
     "output_type": "stream",
     "text": [
      "2018-11-22 13:21:58,538.538 DEBUG:astra.GFS Updating Download progress: 75.0%% complete\n"
     ]
    },
    {
     "name": "stdout",
     "output_type": "stream",
     "text": [
      "\r",
      "Downloading weather forecast: 75%"
     ]
    },
    {
     "name": "stderr",
     "output_type": "stream",
     "text": [
      "2018-11-22 13:22:00,557.557 DEBUG:astra.GFS Updating Download progress: 100.0%% complete\n"
     ]
    },
    {
     "name": "stdout",
     "output_type": "stream",
     "text": [
      "\r",
      "Downloading weather forecast. 100%\n",
      "Weather downloaded.\n"
     ]
    },
    {
     "name": "stderr",
     "output_type": "stream",
     "text": [
      "2018-11-22 13:22:01,813.813 DEBUG:astra.GFS Forecast successfully downloaded!\n",
      "2018-11-22 13:22:01,815.815 DEBUG:astra.weather GFS data successfully downloaded.\n"
     ]
    },
    {
     "name": "stdout",
     "output_type": "stream",
     "text": [
      "Preparing simulation\n",
      "The simulation is running. Current progress: 99%data\\balloon_track4_markers.kml\n",
      "The simulation is running. Current progress: 100%\n",
      "Simulation completed.\n"
     ]
    },
    {
     "name": "stderr",
     "output_type": "stream",
     "text": [
      "2018-11-22 13:23:41,099.99 DEBUG:astra.weather Fetched time zone data about the launch site: UTC offset is 0.000000 hours\n",
      "2018-11-22 13:23:41,100.100 DEBUG:astra.weather Using UTC time 27/11/18 13:23\n",
      "2018-11-22 13:23:41,102.102 INFO:astra.weather Preparing to download weather data for parameters:\n",
      "2018-11-22 13:23:41,104.104 DEBUG:astra.weather     Launch site Latitude: 35.3973\n",
      "2018-11-22 13:23:41,106.106 DEBUG:astra.weather     Launch site Longitude: -90.9965\n",
      "2018-11-22 13:23:41,108.108 DEBUG:astra.weather     Launch time: 2018-11-27 13:23:40.835300\n",
      "2018-11-22 13:23:41,110.110 DEBUG:astra.GFS Attempting to download cycle data.\n",
      "2018-11-22 13:23:41,113.113 DEBUG:astra.GFS Requesting URL: http://nomads.ncep.noaa.gov:9090/dods/gfs_0p50/gfs20181122/gfs_0p50_12z.ascii?tmpprs[40:41][0:46][244:256][526:550]\n"
     ]
    },
    {
     "name": "stdout",
     "output_type": "stream",
     "text": [
      "Downloading weather forecast: 0%"
     ]
    },
    {
     "name": "stderr",
     "output_type": "stream",
     "text": [
      "2018-11-22 13:23:43,842.842 DEBUG:astra.GFS Requesting weather urls asynchronously: status will be sent to requests logger\n",
      "2018-11-22 13:23:47,450.450 DEBUG:astra.GFS Updating Download progress: 25.0%% complete\n"
     ]
    },
    {
     "name": "stdout",
     "output_type": "stream",
     "text": [
      "\r",
      "Downloading weather forecast: 25%"
     ]
    },
    {
     "name": "stderr",
     "output_type": "stream",
     "text": [
      "2018-11-22 13:23:47,456.456 DEBUG:astra.GFS Updating Download progress: 50.0%% complete\n"
     ]
    },
    {
     "name": "stdout",
     "output_type": "stream",
     "text": [
      "\r",
      "Downloading weather forecast: 50%"
     ]
    },
    {
     "name": "stderr",
     "output_type": "stream",
     "text": [
      "2018-11-22 13:23:47,663.663 DEBUG:astra.GFS Updating Download progress: 75.0%% complete\n"
     ]
    },
    {
     "name": "stdout",
     "output_type": "stream",
     "text": [
      "\r",
      "Downloading weather forecast: 75%"
     ]
    },
    {
     "name": "stderr",
     "output_type": "stream",
     "text": [
      "2018-11-22 13:23:50,315.315 DEBUG:astra.GFS Updating Download progress: 100.0%% complete\n"
     ]
    },
    {
     "name": "stdout",
     "output_type": "stream",
     "text": [
      "\r",
      "Downloading weather forecast. 100%\n",
      "Weather downloaded.\n"
     ]
    },
    {
     "name": "stderr",
     "output_type": "stream",
     "text": [
      "2018-11-22 13:23:51,053.53 DEBUG:astra.GFS Forecast successfully downloaded!\n",
      "2018-11-22 13:23:51,054.54 DEBUG:astra.weather GFS data successfully downloaded.\n"
     ]
    },
    {
     "name": "stdout",
     "output_type": "stream",
     "text": [
      "Preparing simulation\n",
      "The simulation is running. Current progress: 99%data\\balloon_track5_markers.kml\n",
      "The simulation is running. Current progress: 100%\n",
      "Simulation completed.\n"
     ]
    },
    {
     "name": "stderr",
     "output_type": "stream",
     "text": [
      "2018-11-22 13:25:27,394.394 DEBUG:astra.weather Fetched time zone data about the launch site: UTC offset is 0.000000 hours\n",
      "2018-11-22 13:25:27,397.397 DEBUG:astra.weather Using UTC time 28/11/18 13:25\n",
      "2018-11-22 13:25:27,400.400 INFO:astra.weather Preparing to download weather data for parameters:\n",
      "2018-11-22 13:25:27,404.404 DEBUG:astra.weather     Launch site Latitude: 35.3973\n",
      "2018-11-22 13:25:27,408.408 DEBUG:astra.weather     Launch site Longitude: -90.9965\n",
      "2018-11-22 13:25:27,410.410 DEBUG:astra.weather     Launch time: 2018-11-28 13:25:27.130906\n",
      "2018-11-22 13:25:27,413.413 DEBUG:astra.GFS Attempting to download cycle data.\n",
      "2018-11-22 13:25:27,416.416 DEBUG:astra.GFS Requesting URL: http://nomads.ncep.noaa.gov:9090/dods/gfs_0p50/gfs20181122/gfs_0p50_12z.ascii?tmpprs[48:49][0:46][244:256][526:550]\n"
     ]
    },
    {
     "name": "stdout",
     "output_type": "stream",
     "text": [
      "Downloading weather forecast: 0%"
     ]
    },
    {
     "name": "stderr",
     "output_type": "stream",
     "text": [
      "2018-11-22 13:25:30,242.242 DEBUG:astra.GFS Requesting weather urls asynchronously: status will be sent to requests logger\n",
      "2018-11-22 13:25:35,595.595 DEBUG:astra.GFS Updating Download progress: 25.0%% complete\n"
     ]
    },
    {
     "name": "stdout",
     "output_type": "stream",
     "text": [
      "\r",
      "Downloading weather forecast: 25%"
     ]
    },
    {
     "name": "stderr",
     "output_type": "stream",
     "text": [
      "2018-11-22 13:25:35,603.603 DEBUG:astra.GFS Updating Download progress: 50.0%% complete\n"
     ]
    },
    {
     "name": "stdout",
     "output_type": "stream",
     "text": [
      "\r",
      "Downloading weather forecast: 50%"
     ]
    },
    {
     "name": "stderr",
     "output_type": "stream",
     "text": [
      "2018-11-22 13:25:35,611.611 DEBUG:astra.GFS Updating Download progress: 75.0%% complete\n"
     ]
    },
    {
     "name": "stdout",
     "output_type": "stream",
     "text": [
      "\r",
      "Downloading weather forecast: 75%"
     ]
    },
    {
     "name": "stderr",
     "output_type": "stream",
     "text": [
      "2018-11-22 13:25:36,608.608 DEBUG:astra.GFS Updating Download progress: 100.0%% complete\n"
     ]
    },
    {
     "name": "stdout",
     "output_type": "stream",
     "text": [
      "\r",
      "Downloading weather forecast. 100%\n",
      "Weather downloaded.\n"
     ]
    },
    {
     "name": "stderr",
     "output_type": "stream",
     "text": [
      "2018-11-22 13:25:38,591.591 DEBUG:astra.GFS Forecast successfully downloaded!\n",
      "2018-11-22 13:25:38,593.593 DEBUG:astra.weather GFS data successfully downloaded.\n"
     ]
    },
    {
     "name": "stdout",
     "output_type": "stream",
     "text": [
      "Preparing simulation\n",
      "The simulation is running. Current progress: 99%data\\balloon_track6_markers.kml\n",
      "The simulation is running. Current progress: 100%\n",
      "Simulation completed.\n"
     ]
    },
    {
     "name": "stderr",
     "output_type": "stream",
     "text": [
      "2018-11-22 13:27:15,531.531 DEBUG:astra.weather Fetched time zone data about the launch site: UTC offset is 0.000000 hours\n",
      "2018-11-22 13:27:15,534.534 DEBUG:astra.weather Using UTC time 29/11/18 13:27\n",
      "2018-11-22 13:27:15,537.537 INFO:astra.weather Preparing to download weather data for parameters:\n",
      "2018-11-22 13:27:15,541.541 DEBUG:astra.weather     Launch site Latitude: 35.3973\n",
      "2018-11-22 13:27:15,544.544 DEBUG:astra.weather     Launch site Longitude: -90.9965\n",
      "2018-11-22 13:27:15,548.548 DEBUG:astra.weather     Launch time: 2018-11-29 13:27:15.208777\n",
      "2018-11-22 13:27:15,551.551 DEBUG:astra.GFS Attempting to download cycle data.\n",
      "2018-11-22 13:27:15,555.555 DEBUG:astra.GFS Requesting URL: http://nomads.ncep.noaa.gov:9090/dods/gfs_0p50/gfs20181122/gfs_0p50_12z.ascii?tmpprs[56:57][0:46][244:256][526:550]\n"
     ]
    },
    {
     "name": "stdout",
     "output_type": "stream",
     "text": [
      "Downloading weather forecast: 0%"
     ]
    },
    {
     "name": "stderr",
     "output_type": "stream",
     "text": [
      "2018-11-22 13:27:20,044.44 DEBUG:astra.GFS Requesting weather urls asynchronously: status will be sent to requests logger\n",
      "2018-11-22 13:27:23,110.110 DEBUG:astra.GFS Updating Download progress: 25.0%% complete\n"
     ]
    },
    {
     "name": "stdout",
     "output_type": "stream",
     "text": [
      "\r",
      "Downloading weather forecast: 25%"
     ]
    },
    {
     "name": "stderr",
     "output_type": "stream",
     "text": [
      "2018-11-22 13:27:25,157.157 DEBUG:astra.GFS Updating Download progress: 50.0%% complete\n"
     ]
    },
    {
     "name": "stdout",
     "output_type": "stream",
     "text": [
      "\r",
      "Downloading weather forecast: 50%"
     ]
    },
    {
     "name": "stderr",
     "output_type": "stream",
     "text": [
      "2018-11-22 13:27:26,385.385 DEBUG:astra.GFS Updating Download progress: 75.0%% complete\n"
     ]
    },
    {
     "name": "stdout",
     "output_type": "stream",
     "text": [
      "\r",
      "Downloading weather forecast: 75%"
     ]
    },
    {
     "name": "stderr",
     "output_type": "stream",
     "text": [
      "2018-11-22 13:27:26,393.393 DEBUG:astra.GFS Updating Download progress: 100.0%% complete\n"
     ]
    },
    {
     "name": "stdout",
     "output_type": "stream",
     "text": [
      "\r",
      "Downloading weather forecast. 100%\n",
      "Weather downloaded.\n"
     ]
    },
    {
     "name": "stderr",
     "output_type": "stream",
     "text": [
      "2018-11-22 13:27:27,243.243 DEBUG:astra.GFS Forecast successfully downloaded!\n",
      "2018-11-22 13:27:27,244.244 DEBUG:astra.weather GFS data successfully downloaded.\n"
     ]
    },
    {
     "name": "stdout",
     "output_type": "stream",
     "text": [
      "Preparing simulation\n",
      "The simulation is running. Current progress: 99%data\\balloon_track7_markers.kml\n",
      "The simulation is running. Current progress: 100%\n",
      "Simulation completed.\n"
     ]
    }
   ],
   "source": [
    "for x in range(8):\n",
    "    launch_datetime = datetime.now() + timedelta(hours=24*x)\n",
    "    simEnvironment = forecastEnvironment(launchSiteLat=35.39730,      # deg\n",
    "                                         launchSiteLon=-90.9965,     # deg\n",
    "                                         launchSiteElev=100,           # m\n",
    "                                         dateAndTime=launch_datetime,\n",
    "                                         forceNonHD=True,\n",
    "                                         debugging=True)\n",
    "\n",
    "\n",
    "    simFlight = flight(environment=simEnvironment,\n",
    "                       balloonGasType='Helium',\n",
    "                       balloonModel='HW1600',\n",
    "                       nozzleLift=7.5,                                # kg\n",
    "                       payloadTrainWeight=5.4,                    # kg\n",
    "                       parachuteModel='SPH54',\n",
    "                       numberOfSimRuns=100,\n",
    "                       trainEquivSphereDiam=0.3,                    # m\n",
    "                       floatingFlight=False,\n",
    "                       excessPressureCoeff=1,\n",
    "                       #outputFile=os.path.join('.', 'astra_output'),\n",
    "                       outputFile= os.path.join('data', 'balloon_track' + str(x) + '.kml'),\n",
    "                       debugging=False,\n",
    "                       log_to_file=True)\n",
    "\n",
    "    simFlight.run()\n",
    "#simFlight.write_CSV(os.path.join('.', 'testing'))"
   ]
  },
  {
   "cell_type": "markdown",
   "metadata": {},
   "source": []
  },
  {
   "cell_type": "code",
   "execution_count": 5,
   "metadata": {},
   "outputs": [],
   "source": [
    "kw = {'location': [simEnvironment.launchSiteLat, simEnvironment.launchSiteLon], 'zoom_start': 8,}"
   ]
  },
  {
   "cell_type": "code",
   "execution_count": 6,
   "metadata": {},
   "outputs": [],
   "source": [
    "out_dir = Path('./results')\n",
    "m = folium.Map(tiles='OpenStreetMap', **kw)\n",
    "h = folium.Map(tiles='OpenStreetMap', **kw)\n",
    "\n",
    "\n",
    "import pandas as pd\n",
    "\n",
    "\n",
    "\n",
    "\n",
    "disthist = []\n",
    "for x in range(8):\n",
    "    kml_path = Path(os.path.join('data', 'balloon_track%s' % x + '.kml'))\n",
    "    mark_path = Path(os.path.join('data', 'balloon_track%s' % x + '_markers.kml'))\n",
    "\n",
    "    \n",
    "    layers = kg.convert(kml_path, out_dir)\n",
    "    marklayers = kg.convert(mark_path, out_dir)"
   ]
  },
  {
   "cell_type": "code",
   "execution_count": 7,
   "metadata": {},
   "outputs": [
    {
     "name": "stdout",
     "output_type": "stream",
     "text": [
      "78.50999648516924\n",
      "57.62931394536968\n",
      "68.77937419966096\n",
      "62.92492921825442\n",
      "78.13407464821417\n",
      "77.12250564794833\n",
      "80.05165437462034\n",
      "63.283523588737744\n",
      "78.30655647248707\n",
      "82.51359065943083\n",
      "61.75210913031283\n",
      "62.53171156046679\n",
      "75.26809039264253\n",
      "72.93390431426548\n",
      "87.44406901868368\n",
      "73.83493922576555\n",
      "71.27212473734667\n",
      "82.1021064973395\n",
      "51.84159399796545\n",
      "98.07008414998124\n",
      "67.25343777516036\n",
      "69.76811828788307\n",
      "71.43017063636832\n",
      "88.0019119857025\n",
      "85.25090054331967\n",
      "74.44779888602005\n",
      "80.18503652940882\n",
      "83.46671514545744\n",
      "75.14245259927453\n",
      "75.22258932990025\n",
      "64.5218221027932\n",
      "72.716087313059\n",
      "77.51398344392209\n",
      "83.06376226864819\n",
      "84.54619628221899\n",
      "63.44789575102591\n",
      "66.56606900982902\n",
      "77.8058182612079\n",
      "69.91193375701036\n",
      "75.20705360364924\n",
      "69.59225716915326\n",
      "77.34638299183241\n",
      "71.39658297095997\n",
      "79.35172930228032\n",
      "68.10084081478179\n",
      "77.81152396123824\n",
      "67.39227884380789\n",
      "72.16839535382974\n",
      "65.54169496913165\n",
      "83.10894550181968\n",
      "67.5079962512682\n",
      "83.92950106430122\n",
      "73.32686910429273\n",
      "64.32826335368496\n",
      "64.06045865088697\n",
      "82.56915163943069\n",
      "74.3677790089715\n",
      "63.65522357100898\n",
      "73.79637211081932\n",
      "70.20302244518415\n",
      "64.40128031801656\n",
      "80.23211923290664\n",
      "84.61614826571699\n",
      "73.8880720841374\n",
      "69.48982393355186\n",
      "79.22587870322958\n",
      "64.45214137128323\n",
      "59.843452941531694\n",
      "86.9013828474286\n",
      "76.19042482994315\n",
      "68.19256926195003\n",
      "79.52876243353896\n",
      "67.39654214971455\n",
      "65.96512300527247\n",
      "75.89145216414929\n",
      "69.81811005096083\n",
      "71.51789357386338\n",
      "79.70565827694165\n",
      "79.60785322635328\n",
      "82.8095017155704\n",
      "71.69900221054064\n",
      "68.71865834019061\n",
      "73.33297291657266\n",
      "63.39657318822931\n",
      "87.03255794017241\n",
      "72.3090167862057\n",
      "78.46370038452567\n",
      "64.82259092012532\n",
      "68.57773561164954\n",
      "71.58458278118106\n",
      "72.43162361209043\n",
      "65.36337391148643\n",
      "62.44328580471241\n",
      "76.74457035736447\n",
      "69.15088370237267\n",
      "75.06472208356064\n",
      "72.25240158461716\n",
      "74.01656762511921\n",
      "75.79944923902511\n",
      "75.06818433294586\n",
      "112.79736444319356\n",
      "130.4409261582809\n",
      "143.2918671969785\n",
      "122.87267083212419\n",
      "155.23386512752933\n",
      "134.88655214900086\n",
      "109.53971480943325\n",
      "135.0889506270721\n",
      "123.32254791933971\n",
      "123.8084815754324\n",
      "129.00970581224493\n",
      "121.19125221501926\n",
      "126.52722603832525\n",
      "150.0772711890023\n",
      "121.78172724327338\n",
      "122.34318436036588\n",
      "126.99460574905402\n",
      "126.56264814911972\n",
      "118.38487084388785\n",
      "141.50848463960753\n",
      "135.14301918367107\n",
      "116.7302110017404\n",
      "131.03968403411258\n",
      "123.13889129410056\n",
      "110.48311367612335\n",
      "136.89514394112337\n",
      "140.38322166821047\n",
      "125.16857674101054\n",
      "135.7264949055282\n",
      "118.31207800702457\n",
      "140.1853202881963\n",
      "133.26265243332054\n",
      "133.72720338527037\n",
      "135.53269856161546\n",
      "117.7703865706768\n",
      "137.64744017951676\n",
      "134.0045544255229\n",
      "117.689452652012\n",
      "123.32608713619686\n",
      "121.5923673625108\n",
      "139.26131025043475\n",
      "130.9980985323791\n",
      "131.87903823548314\n",
      "139.99450811409517\n",
      "124.0672996808584\n",
      "126.96427937212863\n",
      "118.5407538263342\n",
      "139.33856714828306\n",
      "115.85291613634006\n",
      "113.8956353483526\n",
      "144.95856205541125\n",
      "126.1960495840098\n",
      "130.17416542955172\n",
      "129.29566723755542\n",
      "112.10791980251622\n",
      "135.63080441067413\n",
      "121.27761576571814\n",
      "131.5200665363715\n",
      "132.91141682729315\n",
      "141.09972492598152\n",
      "123.24072021708939\n",
      "139.9718622088328\n",
      "120.75766310199158\n",
      "123.83023560343202\n",
      "129.28791017072294\n",
      "134.75236594615976\n",
      "126.05820636998959\n",
      "132.50486546846852\n",
      "130.85420104995893\n",
      "125.52661143753\n",
      "127.2720701301162\n",
      "137.87828892115425\n",
      "142.3149150801195\n",
      "126.12687004690491\n",
      "115.54646963844853\n",
      "124.98764014501697\n",
      "134.57662372030393\n",
      "120.99469820806367\n",
      "134.638210947461\n",
      "135.98922016286903\n",
      "143.3632506052507\n",
      "141.3685532160983\n",
      "110.30656687595274\n",
      "129.8162836960612\n",
      "113.80305134989452\n",
      "139.59909189829543\n",
      "120.28597497102469\n",
      "123.15675476900107\n",
      "130.52903417083925\n",
      "125.21665985944814\n",
      "136.79522897469974\n",
      "117.02790742311724\n",
      "110.54312569982606\n",
      "152.9654212793455\n",
      "125.81077089689764\n",
      "131.70953240365898\n",
      "137.97403474085354\n",
      "134.57252373582233\n",
      "112.56487446644223\n",
      "105.57160807329343\n",
      "146.72951184781257\n",
      "152.70707155712327\n",
      "129.22530916980247\n",
      "144.84142166842875\n",
      "114.90115464651758\n",
      "158.55622403908907\n",
      "135.39289928909912\n",
      "139.7046381497682\n",
      "137.32126070456312\n",
      "131.9065987298506\n",
      "132.00321079373705\n",
      "140.6192791226548\n",
      "144.88975678597106\n",
      "137.05583915496572\n",
      "151.83872215364872\n",
      "132.15654166271838\n",
      "152.52060030972402\n",
      "157.9302295359295\n",
      "147.35578717661753\n",
      "162.7856339253238\n",
      "148.63147971708898\n",
      "141.94070258541217\n",
      "139.1825499612174\n",
      "139.17906224214434\n",
      "143.04582236675665\n",
      "142.53890768470396\n",
      "145.16606567851105\n",
      "130.02498231509168\n",
      "152.16163502951005\n",
      "150.44339944150207\n",
      "122.61795442733872\n",
      "144.21729617440135\n",
      "155.01995781844926\n",
      "139.49658851722617\n",
      "134.51328024622154\n",
      "129.8681761708372\n",
      "154.19401115894087\n",
      "131.50389103932426\n",
      "150.6521482379486\n",
      "143.5271127168691\n",
      "152.05186421221308\n",
      "145.4382400306469\n",
      "137.18357003594676\n",
      "147.848293660224\n",
      "131.92593138875432\n",
      "168.20519208506175\n",
      "124.25229258336796\n",
      "141.28882152430995\n",
      "128.15756402033912\n",
      "153.24893042795097\n",
      "132.6736721863311\n",
      "135.56663793209583\n",
      "147.10386762989535\n",
      "136.49001229544405\n",
      "149.030524661211\n",
      "137.07997624918121\n",
      "147.1032634042347\n",
      "142.22549113062837\n",
      "143.35368811568588\n",
      "136.18085157723092\n",
      "129.37216231481625\n",
      "133.8028597256175\n",
      "156.36113820426922\n",
      "138.7388311095194\n",
      "151.4839654040313\n",
      "136.7496584332607\n",
      "123.71430044975976\n",
      "136.70424192081413\n",
      "134.27534601985204\n",
      "140.2806425898894\n",
      "128.39432703254374\n",
      "152.30207498250002\n",
      "139.84944149895833\n",
      "166.326900822482\n",
      "136.2729911595127\n",
      "147.1251576486931\n",
      "150.52625793099347\n",
      "129.48407546224303\n",
      "157.79917451716798\n",
      "142.3707592571447\n",
      "124.34001529198444\n",
      "143.1325077515629\n",
      "153.1841951948185\n",
      "126.82215544457567\n",
      "159.4594958899052\n",
      "126.2066429246312\n",
      "144.67379081088876\n",
      "139.3707304105331\n",
      "145.50728805660088\n",
      "134.22555394239478\n",
      "145.58959868591265\n",
      "133.19293075024655\n",
      "145.2864678151266\n",
      "130.71501175256552\n",
      "139.78864836612527\n",
      "164.2339034393911\n",
      "117.04393024643568\n",
      "150.97362491613023\n",
      "153.5669129211628\n",
      "138.94717004132755\n",
      "168.47316575078966\n",
      "186.10152544480027\n",
      "173.905664330309\n",
      "155.35381569534118\n",
      "178.35289804206374\n",
      "171.06980837922765\n",
      "174.98766083992138\n",
      "158.08824532714934\n",
      "159.15232068881124\n",
      "180.79690466570563\n",
      "203.1640177061043\n",
      "182.4608410274857\n",
      "182.9382939295706\n",
      "176.5782391014104\n",
      "166.85982154853835\n",
      "156.61299103584236\n",
      "185.50848232000263\n",
      "162.2079402940365\n",
      "149.71467164778144\n",
      "165.74775464322104\n",
      "170.24564692641152\n",
      "177.73668229927011\n",
      "182.33029726565766\n",
      "167.4667313725644\n",
      "177.54134268732517\n",
      "155.9310020177261\n",
      "173.25859756890367\n",
      "156.00229859717254\n",
      "188.61138856564332\n",
      "175.7648384184576\n",
      "166.7523489999567\n",
      "192.74814418918876\n",
      "154.0841377535699\n",
      "167.53234408241022\n",
      "182.58077549602467\n",
      "170.55821653697882\n",
      "180.03169522522572\n",
      "176.99138184202522\n",
      "160.5817008166779\n",
      "195.55705435408825\n",
      "184.75277598516925\n",
      "173.09961553061157\n",
      "179.2147868276565\n",
      "151.08998375588158\n",
      "157.02817035817432\n",
      "169.72558110401917\n",
      "178.74252196393226\n",
      "170.9974362354562\n",
      "153.78268254140983\n",
      "163.04237057978673\n",
      "187.6427838504269\n",
      "160.3091339938569\n",
      "180.74891466590665\n",
      "184.5365165413763\n",
      "166.06629851768392\n",
      "158.89628834656986\n",
      "170.3251429760406\n",
      "188.77558261004413\n",
      "147.0080602920962\n",
      "188.39972474387054\n",
      "189.27353350438344\n",
      "211.97471045958886\n",
      "165.32134406859421\n",
      "174.6478430895259\n",
      "185.92725018396987\n",
      "178.08692833023966\n",
      "172.78813359731154\n",
      "172.85522523158915\n",
      "158.30650965766733\n",
      "179.0352197214393\n",
      "177.85543549974182\n",
      "181.70023754063274\n",
      "174.16609268811152\n",
      "185.79996044478636\n",
      "174.13275127124996\n",
      "184.89260655784477\n",
      "155.20125265724175\n",
      "187.638184345237\n",
      "174.9706647352723\n",
      "176.70486287068664\n",
      "191.2035544673798\n",
      "176.99125732846358\n",
      "159.98000870387588\n",
      "166.8236410873532\n",
      "155.2654096659359\n",
      "182.47669207623758\n",
      "167.49238131487894\n",
      "186.8303283086859\n",
      "175.7732713918805\n",
      "161.03187560829107\n",
      "180.19872132903984\n",
      "168.5978216076197\n",
      "162.82104922376496\n",
      "168.4579958401883\n",
      "167.48418153264078\n",
      "160.98455012806386\n",
      "165.1434033672824\n",
      "169.4665964906785\n",
      "216.1085286006764\n",
      "188.3315753811887\n",
      "173.681982359589\n",
      "154.73400476869725\n",
      "168.89551627756666\n",
      "164.4071830733745\n",
      "183.05917079878762\n",
      "169.76791382393867\n",
      "158.2553252599356\n",
      "166.1885312777168\n",
      "172.61141590275017\n",
      "171.67105462838046\n",
      "150.59060339660903\n",
      "175.61707334695495\n",
      "170.9107593225992\n",
      "187.15469955145514\n",
      "190.48337697286422\n",
      "163.9525293274383\n",
      "176.1113623945251\n",
      "175.2214949205981\n",
      "169.52077863334773\n",
      "156.5672147256327\n",
      "168.47721865087505\n",
      "172.21716647293493\n",
      "168.31334344069526\n",
      "163.5154648652754\n",
      "146.4323196892318\n",
      "147.38065724306128\n",
      "152.9862901105988\n",
      "164.60927425836502\n",
      "177.85136926136838\n",
      "148.4491668853131\n",
      "148.82649607612848\n",
      "149.14596557649875\n",
      "179.77078860927412\n",
      "151.6392981962231\n",
      "141.52445014957988\n",
      "177.82718422199608\n",
      "150.43332871735126\n",
      "191.91046325803055\n",
      "167.10777554779696\n",
      "168.15980006722586\n",
      "158.4193876017979\n",
      "180.23888011355635\n",
      "157.830592334749\n",
      "168.83102588493713\n",
      "150.39267185423748\n",
      "156.2872553025097\n",
      "164.38793158579864\n",
      "143.70959228815562\n",
      "180.62691346702226\n",
      "141.61237038415098\n",
      "166.83371277275\n",
      "146.78142969990063\n",
      "184.2120856660468\n",
      "165.06207564185232\n",
      "180.93611868731145\n",
      "140.5619866088228\n",
      "184.961808008132\n",
      "145.89225736321382\n",
      "172.10734105992833\n",
      "164.77996422821857\n",
      "163.97073281820167\n",
      "181.3345291419193\n",
      "157.48166030391812\n",
      "169.59613777122763\n",
      "174.51783480316666\n",
      "120.14760453960733\n",
      "171.35842441745928\n",
      "158.10671446784426\n",
      "179.22153643801693\n",
      "173.51610882682434\n",
      "175.47174874514\n",
      "159.48368525860207\n",
      "182.58590413555274\n",
      "179.68237573602295\n",
      "184.95615224804789\n",
      "162.6944960164516\n",
      "161.53167814690264\n",
      "184.25544970424878\n",
      "162.5411530123269\n",
      "170.72449279699978\n",
      "171.80831519688755\n",
      "164.2555539581311\n",
      "180.67048100512443\n",
      "179.7813313093554\n",
      "174.42102829874867\n",
      "159.79289061022226\n",
      "165.61752558759872\n",
      "184.76603913143012\n",
      "167.6039571064282\n",
      "143.98118101070668\n",
      "166.15234653441794\n",
      "190.31495662891456\n",
      "129.23056603937744\n",
      "157.11986522416416\n",
      "180.7877341330955\n",
      "192.78353778417716\n",
      "178.08488263553187\n",
      "141.10675293897754\n",
      "159.76428814458185\n",
      "157.243824903238\n",
      "189.27636944379745\n",
      "190.94872135431768\n",
      "163.38474410952068\n",
      "187.78446423023175\n",
      "190.54702485688168\n",
      "185.47417762407275\n",
      "183.2432751721636\n",
      "180.8898924826621\n",
      "162.02993663973365\n",
      "167.06805375133348\n",
      "168.18423110840908\n",
      "168.2009335442511\n",
      "152.95535626459443\n",
      "177.51219603121342\n",
      "174.4449526184288\n",
      "178.83549700863944\n",
      "195.9423927020921\n",
      "179.06875486580154\n",
      "180.0517503681772\n",
      "160.99869473140419\n",
      "203.566848074955\n",
      "158.9444685812481\n",
      "195.34087261361415\n",
      "165.06572348345566\n",
      "161.87340683683297\n",
      "175.08799117624022\n",
      "193.70328202477288\n",
      "179.59960255019305\n",
      "128.5936769139596\n",
      "176.16428531067723\n",
      "166.81951439352167\n",
      "177.12345513213208\n",
      "176.18162645016153\n",
      "191.0248662348079\n",
      "157.77980371023042\n",
      "156.42572460552157\n",
      "188.04311917974522\n",
      "168.16295583081103\n",
      "178.13602578900364\n",
      "166.16888835812398\n",
      "148.84153361758078\n",
      "179.26539681731936\n",
      "181.49196481019882\n",
      "168.45747651988677\n",
      "170.57813092270658\n",
      "189.51858777272602\n",
      "153.53721594094176\n",
      "173.70571227631683\n",
      "169.76938379556128\n",
      "145.18677692186375\n",
      "180.242388317439\n",
      "182.93464103134616\n",
      "174.90501510928067\n",
      "204.34580879778207\n",
      "192.54720700532522\n",
      "174.57304541290142\n",
      "161.85670554531305\n",
      "174.88937810556646\n",
      "184.20234011916935\n",
      "178.94694225598127\n",
      "154.57506009823564\n",
      "186.42723735299228\n",
      "186.52966862579243\n",
      "166.9398149214084\n",
      "171.2174298754283\n",
      "153.07214771875158\n",
      "197.3677122293944\n",
      "188.2035191954335\n",
      "201.861637227059\n",
      "176.49764643557486\n",
      "196.6014410420603\n",
      "173.5220118074909\n",
      "178.47995953880476\n",
      "188.9865236839721\n",
      "181.22551650074547\n",
      "181.40210699044437\n",
      "161.68036776101485\n",
      "173.25968316879843\n",
      "161.67728017229103\n",
      "170.97081027876794\n",
      "176.7608950127088\n",
      "184.99972357235936\n",
      "169.33855383629898\n",
      "154.72164307973242\n",
      "165.28032542504053\n",
      "156.77582589079833\n",
      "167.78252775082655\n",
      "204.51160075088762\n",
      "169.07778085535946\n",
      "169.27011254124164\n",
      "174.85188555806226\n",
      "180.5177984931821\n",
      "184.98994805820956\n",
      "194.30040683692488\n",
      "181.71972846494853\n",
      "168.34795859835086\n",
      "181.5130781368546\n",
      "170.38375830215728\n",
      "180.2027301079198\n",
      "178.92000008834142\n",
      "176.45096271408298\n",
      "175.94363719643664\n",
      "187.70204198128684\n",
      "182.94089744876084\n",
      "166.08242762939574\n",
      "155.1482342875684\n",
      "168.8718118906734\n",
      "187.59960586514654\n",
      "144.26634240830137\n",
      "178.55594699152252\n",
      "160.63810408481237\n",
      "165.23063712418264\n",
      "181.9707766218096\n",
      "181.51890448645693\n",
      "174.418558700024\n",
      "167.34553390391378\n",
      "172.20984415546354\n",
      "166.0551593621894\n",
      "170.5692094890047\n",
      "172.53760743538726\n",
      "186.74169154875764\n",
      "153.54551210771157\n",
      "183.3235051083549\n",
      "179.63146888158124\n",
      "157.97135107726987\n",
      "187.96994862065387\n",
      "184.85956178386604\n",
      "167.24171529552714\n",
      "175.26531926573034\n",
      "144.54481395495614\n",
      "178.7558765749686\n",
      "167.03173174556076\n",
      "175.26965174336937\n",
      "170.42597059232847\n",
      "152.02756653222522\n",
      "151.78933649880238\n",
      "164.81117251494607\n",
      "152.26755320648547\n",
      "157.00241273192043\n",
      "158.99270991107562\n",
      "154.4521023580726\n",
      "163.77362334077932\n",
      "170.96318224016034\n",
      "165.81780132073732\n",
      "164.00075736016547\n",
      "182.3306192133427\n",
      "179.2709810160693\n",
      "170.80509377504737\n",
      "168.0453896013738\n",
      "169.53941269514135\n",
      "183.39950727338106\n",
      "156.83234361483616\n",
      "156.9376212126355\n",
      "163.62092652037722\n",
      "181.35070159507026\n",
      "141.8298507155602\n",
      "159.18651438723737\n",
      "158.73905779521735\n",
      "174.4694205072397\n",
      "140.4166610759664\n",
      "146.5988760750138\n",
      "173.99479621069491\n",
      "166.51716306083443\n",
      "159.6416055877765\n",
      "152.52212711056745\n",
      "187.77349801478124\n",
      "172.84812506781824\n",
      "172.88691632585292\n",
      "163.85394798300754\n",
      "165.12188440283487\n",
      "149.79059274623322\n",
      "178.0047023428728\n",
      "190.4696139475813\n",
      "154.49653565020424\n",
      "163.5106580511366\n",
      "167.36101951446986\n",
      "176.00798013668387\n",
      "180.66880552325475\n",
      "185.70160038361823\n",
      "150.9049344238791\n",
      "158.69752108979768\n",
      "171.6572079721586\n",
      "170.22144298827203\n",
      "195.8738316652174\n",
      "164.16369510835148\n",
      "158.60782614081185\n",
      "174.23684630500662\n",
      "165.77503871911142\n",
      "174.32343263366676\n",
      "158.27619934264726\n",
      "167.92097951618345\n",
      "172.40534665946737\n",
      "195.4479314114253\n",
      "182.86757470435884\n",
      "166.12287977041407\n",
      "155.11883119436035\n",
      "149.56125459279087\n",
      "176.67108148652704\n",
      "150.1681301480406\n",
      "172.7301973915534\n",
      "85.07459722010032\n",
      "82.93011337821319\n",
      "80.86985723567015\n",
      "96.0730074306414\n",
      "98.10688608767425\n",
      "103.20318233055076\n",
      "86.24871421185982\n",
      "99.3020357569691\n",
      "84.51737829871057\n",
      "90.72934388388438\n",
      "91.86259493102155\n",
      "82.10625757681163\n",
      "89.67492252060467\n",
      "90.75376105284897\n",
      "76.00885484971423\n",
      "93.3922268327863\n",
      "80.55301082309235\n",
      "93.11058633223426\n",
      "79.81040237031317\n",
      "97.94927045180268\n",
      "91.2612596124747\n",
      "75.81086705366195\n",
      "97.5401979653998\n",
      "84.15382778526251\n",
      "97.00686483371996\n",
      "79.1258754506737\n",
      "88.76305274149331\n",
      "77.11090718968778\n",
      "88.66335486469096\n",
      "80.58892875544757\n",
      "108.35405002564035\n",
      "79.28623242935319\n",
      "104.14317988423943\n",
      "105.86861875448952\n",
      "95.60030665959735\n",
      "86.55596607071445\n",
      "86.58078708461491\n",
      "81.94718584469851\n",
      "80.35608734833467\n",
      "91.62854830991381\n",
      "92.02152876595667\n",
      "76.25923529550893\n",
      "96.24784885689678\n",
      "86.62681565865311\n",
      "85.79771754232038\n",
      "96.7661631611973\n",
      "88.52488533623892\n",
      "82.59977566309372\n",
      "100.32587945184909\n",
      "105.5747686466678\n",
      "91.33612452518176\n",
      "83.52571558374167\n",
      "94.78657596450464\n",
      "94.75986228756122\n",
      "97.37301272572498\n",
      "96.13205821233947\n",
      "88.12142502390435\n",
      "80.22589617808629\n",
      "91.29671533341629\n",
      "80.69340367895029\n",
      "84.11434761057397\n",
      "78.95157090191374\n",
      "99.67001101451109\n",
      "78.77386216837033\n",
      "87.8906328469046\n",
      "84.03821388841061\n",
      "94.61712517658998\n",
      "93.32658767278858\n",
      "84.45667900748192\n",
      "85.76025592597789\n",
      "88.68855071545391\n",
      "92.83044945807508\n",
      "71.13704521285607\n",
      "86.88803357402955\n",
      "94.2387441492324\n",
      "70.05684721039513\n",
      "87.26659259998769\n",
      "87.13233421275085\n",
      "82.18945259654666\n",
      "91.93845468638186\n",
      "89.48857190075842\n",
      "90.67215118481572\n",
      "80.76743327451555\n",
      "67.41954020635009\n",
      "93.53743001754636\n",
      "91.66371976286064\n",
      "95.99107925981637\n",
      "82.81954509502974\n",
      "84.32579667520133\n",
      "96.51679637235524\n",
      "97.89341895954458\n",
      "90.32711244820163\n",
      "94.48763556216616\n",
      "95.03004880622018\n",
      "88.80966780766063\n",
      "87.56256488772672\n",
      "98.4411986229576\n",
      "76.93603800768348\n",
      "79.90103606093001\n",
      "95.59532568075048\n"
     ]
    }
   ],
   "source": [
    "for x in range(8):\n",
    "    impact = []\n",
    "    lon = []\n",
    "    lat = []\n",
    "    lon_sum = 0\n",
    "    lat_sum = 0\n",
    "    track = os.path.join('results', 'balloon_track%s.geojson' % x)\n",
    "    markers = os.path.join('results', 'balloon_track%s_markers.geojson' % x)\n",
    "\n",
    "\n",
    "    #tracks = folium.GeoJson(track)\n",
    "\n",
    "    #tracks.add_to(m)\n",
    "    \n",
    "    with open(markers) as f:\n",
    "        landings = json.load(f)\n",
    "\n",
    "\n",
    "\n",
    "    for feature in landings['features']:\n",
    "        if feature['properties']['name'].find('landing') > 0:\n",
    "            coords = feature['geometry']['coordinates']\n",
    "            #print(coords)\n",
    "            impact.append([coords[1],coords[0]])\n",
    "            lon.append(coords[1])\n",
    "            lat.append(coords[0])\n",
    "            #llon.append(spot[1])\n",
    "            #print(coords)\n",
    "            lon_sum += coords[1]\n",
    "            lat_sum += coords[0]\n",
    "            \n",
    "            lat1 = radians(coords[1])\n",
    "            lon1 = radians(coords[0])\n",
    "            lon2 = radians(simEnvironment.launchSiteLon)\n",
    "            lat2 = radians(simEnvironment.launchSiteLat)\n",
    "            \n",
    "            dlon = lon2 - lon1\n",
    "            dlat = lat2 - lat1\n",
    "\n",
    "            a = sin(dlat / 2)**2 + cos(lat1) * cos(lat2) * sin(dlon / 2)**2\n",
    "            c = 2 * atan2(sqrt(a), sqrt(1 - a))\n",
    "\n",
    "            distance = R * c\n",
    "            disthist.append(distance)\n",
    "            print(distance)\n",
    "\n",
    "    lonerr = statistics.stdev(lon)\n",
    "    laterr = statistics.stdev(lat)\n",
    "\n",
    "    #print(laterr, lon)\n",
    "\n",
    "    loncent = lon_sum / len(impact)\n",
    "    latcent = lat_sum / len(impact)\n",
    "\n",
    "    #print(impact)\n",
    "    #print(loncent, latcent)\n",
    "    #print(impact)\n",
    "\n",
    "    folium.CircleMarker([loncent,latcent], radius=10, color='black').add_to(m)\n",
    "    #marks = folium.GeoJson(markers)\n",
    "\n",
    "    #marks.add_to(m)\n",
    "    latp = []\n",
    "    lonp = []\n",
    "\n",
    "    latp.append([loncent-lonerr,latcent])\n",
    "    latp.append([loncent+lonerr,latcent])\n",
    "    lonp.append([loncent,latcent-laterr])\n",
    "    lonp.append([loncent,latcent+laterr])\n",
    "\n",
    "    folium.PolyLine(latp, color=\"green\", weight=2.5, opacity=1).add_to(m)\n",
    "    folium.PolyLine(lonp, color=\"green\", weight=2.5, opacity=1).add_to(m)\n",
    "    #print(disthist)\n",
    "    \n",
    "\n",
    "    HeatMap(impact).add_to(h)\n",
    "    folium.Marker([loncent,latcent]).add_to(h)\n",
    "    \n",
    "    \n",
    "\n",
    "\n",
    "\n"
   ]
  },
  {
   "cell_type": "code",
   "execution_count": 8,
   "metadata": {},
   "outputs": [
    {
     "data": {
      "text/html": [
       "<div style=\"width:100%;\"><div style=\"position:relative;width:100%;height:0;padding-bottom:60%;\"><iframe src=\"data:text/html;charset=utf-8;base64,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\" style=\"position:absolute;width:100%;height:100%;left:0;top:0;border:none !important;\" allowfullscreen webkitallowfullscreen mozallowfullscreen></iframe></div></div>"
      ],
      "text/plain": [
       "<folium.folium.Map at 0x1e5b328f0f0>"
      ]
     },
     "execution_count": 8,
     "metadata": {},
     "output_type": "execute_result"
    }
   ],
   "source": [
    "m"
   ]
  },
  {
   "cell_type": "code",
   "execution_count": 9,
   "metadata": {
    "scrolled": false
   },
   "outputs": [
    {
     "data": {
      "text/html": [
       "<div style=\"width:100%;\"><div style=\"position:relative;width:100%;height:0;padding-bottom:60%;\"><iframe src=\"data:text/html;charset=utf-8;base64,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\" style=\"position:absolute;width:100%;height:100%;left:0;top:0;border:none !important;\" allowfullscreen webkitallowfullscreen mozallowfullscreen></iframe></div></div>"
      ],
      "text/plain": [
       "<folium.folium.Map at 0x1e5b328f048>"
      ]
     },
     "execution_count": 9,
     "metadata": {},
     "output_type": "execute_result"
    }
   ],
   "source": [
    "h"
   ]
  },
  {
   "cell_type": "code",
   "execution_count": 13,
   "metadata": {},
   "outputs": [
    {
     "data": {
      "image/png": "[encoded data removed]",
      "text/plain": [
       "<matplotlib.figure.Figure at 0x1e5b415d0f0>"
      ]
     },
     "metadata": {},
     "output_type": "display_data"
    }
   ],
   "source": [
    "n_bins = 20\n",
    "\n",
    "fig, axs = plt.subplots()\n",
    "\n",
    "# We can set the number of bins with the `bins` kwarg\n",
    "axs.hist(disthist, bins=n_bins)\n",
    "\n",
    "plt.show()"
   ]
  },
  {
   "cell_type": "code",
   "execution_count": 11,
   "metadata": {},
   "outputs": [
    {
     "data": {
      "text/html": [
       "<div style=\"width:100%;\"><div style=\"position:relative;width:100%;height:0;padding-bottom:60%;\"><iframe src=\"data:text/html;charset=utf-8;base64,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\" style=\"position:absolute;width:100%;height:100%;left:0;top:0;border:none !important;\" allowfullscreen webkitallowfullscreen mozallowfullscreen></iframe></div></div>"
      ],
      "text/plain": [
       "<folium.folium.Map at 0x1e5b328f0f0>"
      ]
     },
     "execution_count": 11,
     "metadata": {},
     "output_type": "execute_result"
    }
   ],
   "source": [
    "m"
   ]
  },
  {
   "cell_type": "code",
   "execution_count": 12,
   "metadata": {},
   "outputs": [
    {
     "data": {
      "text/html": [
       "<div style=\"width:100%;\"><div style=\"position:relative;width:100%;height:0;padding-bottom:60%;\"><iframe src=\"data:text/html;charset=utf-8;base64,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\" style=\"position:absolute;width:100%;height:100%;left:0;top:0;border:none !important;\" allowfullscreen webkitallowfullscreen mozallowfullscreen></iframe></div></div>"
      ],
      "text/plain": [
       "<folium.folium.Map at 0x1e5b415d1d0>"
      ]
     },
     "execution_count": 12,
     "metadata": {},
     "output_type": "execute_result"
    }
   ],
   "source": [
    "h = folium.Map(tiles='OpenStreetMap', location=[loncent,latcent], zoom_start=8,)\n",
    "\n",
    "HeatMap(impact).add_to(h)\n",
    "folium.Marker([loncent,latcent]).add_to(h)\n",
    "\n",
    "h"
   ]
  },
  {
   "cell_type": "code",
   "execution_count": null,
   "metadata": {
    "collapsed": true
   },
   "outputs": [],
   "source": []
  },
  {
   "cell_type": "code",
   "execution_count": null,
   "metadata": {
    "collapsed": true
   },
   "outputs": [],
   "source": []
  },
  {
   "cell_type": "code",
   "execution_count": null,
   "metadata": {
    "collapsed": true
   },
   "outputs": [],
   "source": [
    "h.save(os.path.join('results', 'map.html'))\n"
   ]
  },
  {
   "cell_type": "code",
   "execution_count": null,
   "metadata": {
    "collapsed": true
   },
   "outputs": [],
   "source": []
  }
 ],
 "metadata": {
  "kernelspec": {
   "display_name": "Python 3",
   "language": "python",
   "name": "python3"
  },
  "language_info": {
   "codemirror_mode": {
    "name": "ipython",
    "version": 3
   },
   "file_extension": ".py",
   "mimetype": "text/x-python",
   "name": "python",
   "nbconvert_exporter": "python",
   "pygments_lexer": "ipython3",
   "version": "3.6.3"
  }
 },
 "nbformat": 4,
 "nbformat_minor": 2
}
