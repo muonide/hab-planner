{
 "cells": [
  {
   "cell_type": "markdown",
   "metadata": {},
   "source": [
    "# Balloon Flight Prediction Tool\n",
    "\n",
    "This application predicts balloon flight trajectories via the ASTRA High Altitude Balloon Flight Planner but is capable of automating mission planning proceedures and provides data analytics.\n"
   ]
  },
  {
   "cell_type": "code",
   "execution_count": null,
   "metadata": {
    "collapsed": true,
    "slideshow": {
     "slide_type": "-"
    }
   },
   "outputs": [],
   "source": [
    "import sys\n",
    "import os\n",
    "import pathlib\n",
    "import xml.dom.minidom as md\n",
    "from pathlib import Path\n",
    "import kml2geojson as kg\n",
    "import folium\n",
    "import json\n",
    "import geojson\n",
    "from folium import plugins\n",
    "from folium.plugins import HeatMap\n",
    "import numpy as np\n",
    "from datetime import datetime, timedelta, time\n",
    "from astra.simulator import *\n",
    "import statistics\n",
    "from math import sin, cos, sqrt, atan2, radians\n",
    "import matplotlib.pyplot as plt\n",
    "import pandas as pd\n",
    "import datetime\n"
   ]
  },
  {
   "cell_type": "markdown",
   "metadata": {},
   "source": [
    "Launch time is calculated as 8:00 AM local time on the upcoming Saturday.  If today is Saturday, launch time is current time."
   ]
  },
  {
   "cell_type": "code",
   "execution_count": null,
   "metadata": {},
   "outputs": [],
   "source": [
    "def next_weekday(d, weekday):\n",
    "    days_ahead = weekday - d.weekday()\n",
    "    if days_ahead <= 0: # Target day already happened this week\n",
    "        days_ahead += 7\n",
    "    return d + datetime.timedelta(days_ahead)\n",
    "\n",
    "if datetime.datetime.now().weekday() == 5: # check if today is Saturday\n",
    "    launch_time = datetime.datetime.now()\n",
    "    \n",
    "else:\n",
    "    d = datetime.datetime.now()\n",
    "    launch_day = next_weekday(d, 5) # 0 = Monday, 1=Tuesday, 2=Wednesday...\n",
    "    t = datetime.time(hour=8, minute=0)\n",
    "    launch_time = datetime.datetime.combine(launch_day, t)\n",
    "\n",
    "print(launch_time)\n",
    "\n"
   ]
  },
  {
   "cell_type": "markdown",
   "metadata": {},
   "source": [
    "Define assorted constants and flight parameters"
   ]
  },
  {
   "cell_type": "code",
   "execution_count": null,
   "metadata": {
    "collapsed": true
   },
   "outputs": [],
   "source": [
    "np.random.seed(62)\n",
    "\n",
    "R = 6373.0\n",
    "\n",
    "loops = 8"
   ]
  },
  {
   "cell_type": "markdown",
   "metadata": {},
   "source": [
    "Setup flight parameters.  Adjust accordingly"
   ]
  },
  {
   "cell_type": "code",
   "execution_count": null,
   "metadata": {},
   "outputs": [],
   "source": [
    "for x in range(loops):\n",
    "    launch_datetime = launch_time + datetime.timedelta(hours=1*x)\n",
    "    simEnvironment = forecastEnvironment(launchSiteLat=35.39730,      # deg\n",
    "                                         launchSiteLon=-90.9965,     # deg\n",
    "                                         launchSiteElev=100,           # m\n",
    "                                         dateAndTime=launch_datetime,\n",
    "                                         forceNonHD=True,\n",
    "                                         debugging=True)\n",
    "\n",
    "\n",
    "    simFlight = flight(environment=simEnvironment,\n",
    "                       balloonGasType='Helium',\n",
    "                       balloonModel='HW1600',\n",
    "                       nozzleLift=7.5,                                # kg\n",
    "                       payloadTrainWeight=5.4,                    # kg\n",
    "                       parachuteModel='SPH54',\n",
    "                       numberOfSimRuns=25,\n",
    "                       trainEquivSphereDiam=0.3,                    # m\n",
    "                       floatingFlight=False,\n",
    "                       excessPressureCoeff=1,\n",
    "                       #outputFile=os.path.join('.', 'astra_output'),\n",
    "                       outputFile= os.path.join('data', 'balloon_track' + str(x) + '.kml'),\n",
    "                       debugging=False,\n",
    "                       log_to_file=True)\n",
    "\n",
    "    simFlight.run()\n",
    "#simFlight.write_CSV(os.path.join('.', 'testing'))"
   ]
  },
  {
   "cell_type": "markdown",
   "metadata": {},
   "source": [
    "Decode the results of each simulation, determine centroid & error, and add to maps"
   ]
  },
  {
   "cell_type": "code",
   "execution_count": null,
   "metadata": {
    "collapsed": true
   },
   "outputs": [],
   "source": [
    "kw = {'location': [simEnvironment.launchSiteLat, simEnvironment.launchSiteLon], 'zoom_start': 8,}"
   ]
  },
  {
   "cell_type": "code",
   "execution_count": null,
   "metadata": {
    "collapsed": true
   },
   "outputs": [],
   "source": [
    "out_dir = Path('./results')\n",
    "m = folium.Map(tiles='OpenStreetMap', **kw)\n",
    "h = folium.Map(tiles='OpenStreetMap', **kw)\n",
    "\n",
    "disthist = []\n",
    "for x in range(loops):\n",
    "    kml_path = Path(os.path.join('data', 'balloon_track%s' % x + '.kml'))\n",
    "    mark_path = Path(os.path.join('data', 'balloon_track%s' % x + '_markers.kml'))\n",
    "\n",
    "    \n",
    "    layers = kg.convert(kml_path, out_dir)\n",
    "    marklayers = kg.convert(mark_path, out_dir)"
   ]
  },
  {
   "cell_type": "code",
   "execution_count": null,
   "metadata": {
    "collapsed": true
   },
   "outputs": [],
   "source": [
    "for x in range(loops):\n",
    "    impact = []\n",
    "    lon = []\n",
    "    lat = []\n",
    "    lon_sum = 0\n",
    "    lat_sum = 0\n",
    "    track = os.path.join('results', 'balloon_track%s.geojson' % x)\n",
    "    markers = os.path.join('results', 'balloon_track%s_markers.geojson' % x)\n",
    "\n",
    "\n",
    "    tracks = folium.GeoJson(track)\n",
    "\n",
    "    tracks.add_to(m)\n",
    "    \n",
    "    with open(markers) as f:\n",
    "        landings = json.load(f)\n",
    "\n",
    "\n",
    "\n",
    "    for feature in landings['features']:\n",
    "        if feature['properties']['name'].find('landing') > 0:\n",
    "            coords = feature['geometry']['coordinates']\n",
    "            #print(coords)\n",
    "            impact.append([coords[1],coords[0]])\n",
    "            lon.append(coords[1])\n",
    "            lat.append(coords[0])\n",
    "            #llon.append(spot[1])\n",
    "            #print(coords)\n",
    "            lon_sum += coords[1]\n",
    "            lat_sum += coords[0]\n",
    "            \n",
    "            lat1 = radians(coords[1])\n",
    "            lon1 = radians(coords[0])\n",
    "            lon2 = radians(simEnvironment.launchSiteLon)\n",
    "            lat2 = radians(simEnvironment.launchSiteLat)\n",
    "            \n",
    "            dlon = lon2 - lon1\n",
    "            dlat = lat2 - lat1\n",
    "\n",
    "            a = sin(dlat / 2)**2 + cos(lat1) * cos(lat2) * sin(dlon / 2)**2\n",
    "            c = 2 * atan2(sqrt(a), sqrt(1 - a))\n",
    "\n",
    "            distance = R * c\n",
    "            disthist.append(distance)\n",
    "            #print(distance)\n",
    "\n",
    "    lonerr = statistics.stdev(lon)\n",
    "    laterr = statistics.stdev(lat)\n",
    "\n",
    "    #print(laterr, lon)\n",
    "\n",
    "    loncent = lon_sum / len(impact)\n",
    "    latcent = lat_sum / len(impact)\n",
    "\n",
    "    #print(impact)\n",
    "    #print(loncent, latcent)\n",
    "    #print(impact)\n",
    "\n",
    "    folium.CircleMarker([loncent,latcent], radius=10, color='black').add_to(m)\n",
    "    #marks = folium.GeoJson(markers)\n",
    "\n",
    "    #marks.add_to(m)\n",
    "    latp = []\n",
    "    lonp = []\n",
    "\n",
    "    latp.append([loncent-lonerr,latcent])\n",
    "    latp.append([loncent+lonerr,latcent])\n",
    "    lonp.append([loncent,latcent-laterr])\n",
    "    lonp.append([loncent,latcent+laterr])\n",
    "\n",
    "    folium.PolyLine(latp, color=\"green\", weight=2.5, opacity=1).add_to(m)\n",
    "    folium.PolyLine(lonp, color=\"green\", weight=2.5, opacity=1).add_to(m)\n",
    "    #print(disthist)\n",
    "    \n",
    "\n",
    "    HeatMap(impact).add_to(h)\n",
    "    folium.Marker([loncent,latcent]).add_to(h)\n",
    "    \n",
    "    \n",
    "\n",
    "\n",
    "\n"
   ]
  },
  {
   "cell_type": "markdown",
   "metadata": {},
   "source": [
    "Plot balloon tracks with centroid & error overlay"
   ]
  },
  {
   "cell_type": "code",
   "execution_count": null,
   "metadata": {},
   "outputs": [],
   "source": [
    "m"
   ]
  },
  {
   "cell_type": "code",
   "execution_count": null,
   "metadata": {
    "scrolled": false
   },
   "outputs": [],
   "source": [
    "h"
   ]
  },
  {
   "cell_type": "code",
   "execution_count": null,
   "metadata": {},
   "outputs": [],
   "source": [
    "n_bins = 20\n",
    "\n",
    "fig, axs = plt.subplots()\n",
    "\n",
    "# We can set the number of bins with the `bins` kwarg\n",
    "axs.hist(disthist, bins=n_bins)\n",
    "\n",
    "plt.show()\n",
    "\n",
    "msg = str(statistics.mean(disthist)) + ',' + str(statistics.median(disthist)) + ',' + str(statistics.stdev(disthist))\n",
    "\n",
    "print(msg)"
   ]
  },
  {
   "cell_type": "code",
   "execution_count": null,
   "metadata": {
    "collapsed": true
   },
   "outputs": [],
   "source": []
  },
  {
   "cell_type": "code",
   "execution_count": null,
   "metadata": {
    "collapsed": true
   },
   "outputs": [],
   "source": []
  },
  {
   "cell_type": "code",
   "execution_count": null,
   "metadata": {
    "collapsed": true
   },
   "outputs": [],
   "source": []
  },
  {
   "cell_type": "code",
   "execution_count": null,
   "metadata": {
    "collapsed": true
   },
   "outputs": [],
   "source": [
    "from noaa_sdk import noaa\n",
    "\n",
    "n = noaa.NOAA()\n",
    "n.points_forecast(simEnvironment.launchSiteLat, simEnvironment.launchSiteLon, hourly=False)"
   ]
  },
  {
   "cell_type": "code",
   "execution_count": null,
   "metadata": {
    "collapsed": true
   },
   "outputs": [],
   "source": [
    "h.save(os.path.join('results', 'map.html'))\n"
   ]
  },
  {
   "cell_type": "code",
   "execution_count": null,
   "metadata": {
    "collapsed": true
   },
   "outputs": [],
   "source": []
  },
  {
   "cell_type": "code",
   "execution_count": null,
   "metadata": {
    "collapsed": true
   },
   "outputs": [],
   "source": []
  },
  {
   "cell_type": "code",
   "execution_count": null,
   "metadata": {
    "collapsed": true
   },
   "outputs": [],
   "source": []
  }
 ],
 "metadata": {
  "kernelspec": {
   "display_name": "Python 3",
   "language": "python",
   "name": "python3"
  },
  "language_info": {
   "codemirror_mode": {
    "name": "ipython",
    "version": 3
   },
   "file_extension": ".py",
   "mimetype": "text/x-python",
   "name": "python",
   "nbconvert_exporter": "python",
   "pygments_lexer": "ipython3",
   "version": "3.6.3"
  }
 },
 "nbformat": 4,
 "nbformat_minor": 2
}
