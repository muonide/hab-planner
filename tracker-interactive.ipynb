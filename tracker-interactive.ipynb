{
 "cells": [
  {
   "cell_type": "markdown",
   "metadata": {},
   "source": [
    "Balloon Flight Prediction Tool\n",
    "\n"
   ]
  },
  {
   "cell_type": "code",
   "execution_count": 1,
   "metadata": {
    "slideshow": {
     "slide_type": "-"
    }
   },
   "outputs": [
    {
     "name": "stderr",
     "output_type": "stream",
     "text": [
      "C:\\Users\\bcarroll\\AppData\\Local\\Continuum\\anaconda3\\lib\\site-packages\\deap-1.2.2-py3.6.egg\\deap\\tools\\_hypervolume\\pyhv.py:33: ImportWarning: Falling back to the python version of hypervolume module. Expect this to be very slow.\n"
     ]
    }
   ],
   "source": [
    "import sys\n",
    "import os\n",
    "import pathlib\n",
    "import xml.dom.minidom as md\n",
    "from pathlib import Path\n",
    "import kml2geojson as kg\n",
    "import folium\n",
    "import json\n",
    "import geojson\n",
    "from folium import plugins\n",
    "from folium.plugins import HeatMap\n",
    "import numpy as np\n",
    "from datetime import datetime, timedelta, time\n",
    "from astra.simulator import *\n",
    "import statistics"
   ]
  },
  {
   "cell_type": "code",
   "execution_count": null,
   "metadata": {
    "collapsed": true
   },
   "outputs": [],
   "source": []
  },
  {
   "cell_type": "code",
   "execution_count": 2,
   "metadata": {
    "collapsed": true
   },
   "outputs": [],
   "source": [
    "np.random.seed(62)"
   ]
  },
  {
   "cell_type": "code",
   "execution_count": 3,
   "metadata": {
    "collapsed": true
   },
   "outputs": [],
   "source": [
    "launch_datetime = datetime(2018, 11, 26, 10,0,0,0)\n",
    "simEnvironment = forecastEnvironment(launchSiteLat=35.39730,      # deg\n",
    "                                         launchSiteLon=-90.9965,     # deg\n",
    "                                         launchSiteElev=100,           # m\n",
    "                                         dateAndTime=launch_datetime,\n",
    "                                         forceNonHD=True,\n",
    "                                         debugging=True)"
   ]
  },
  {
   "cell_type": "code",
   "execution_count": 4,
   "metadata": {},
   "outputs": [
    {
     "name": "stderr",
     "output_type": "stream",
     "text": [
      "2018-11-21 16:36:15,271.271 DEBUG:astra.weather Fetched time zone data about the launch site: UTC offset is 0.000000 hours\n",
      "2018-11-21 16:36:15,272.272 DEBUG:astra.weather Using UTC time 26/11/18 10:00\n",
      "2018-11-21 16:36:15,274.274 INFO:astra.weather Preparing to download weather data for parameters:\n",
      "2018-11-21 16:36:15,276.276 DEBUG:astra.weather     Launch site Latitude: 35.3973\n",
      "2018-11-21 16:36:15,277.277 DEBUG:astra.weather     Launch site Longitude: -90.9965\n",
      "2018-11-21 16:36:15,279.279 DEBUG:astra.weather     Launch time: 2018-11-26 10:00:00\n",
      "2018-11-21 16:36:15,281.281 DEBUG:astra.GFS Attempting to download cycle data.\n",
      "2018-11-21 16:36:15,283.283 DEBUG:astra.GFS Requesting URL: http://nomads.ncep.noaa.gov:9090/dods/gfs_0p50/gfs20181121/gfs_0p50_12z.ascii?tmpprs[39:40][0:46][244:256][526:550]\n"
     ]
    },
    {
     "name": "stdout",
     "output_type": "stream",
     "text": [
      "Downloading weather forecast: 0%"
     ]
    },
    {
     "name": "stderr",
     "output_type": "stream",
     "text": [
      "2018-11-21 16:36:18,991.991 DEBUG:astra.GFS Requesting weather urls asynchronously: status will be sent to requests logger\n",
      "2018-11-21 16:36:22,971.971 DEBUG:astra.GFS Updating Download progress: 25.0%% complete\n"
     ]
    },
    {
     "name": "stdout",
     "output_type": "stream",
     "text": [
      "\r",
      "Downloading weather forecast: 25%"
     ]
    },
    {
     "name": "stderr",
     "output_type": "stream",
     "text": [
      "2018-11-21 16:36:25,229.229 DEBUG:astra.GFS Updating Download progress: 50.0%% complete\n"
     ]
    },
    {
     "name": "stdout",
     "output_type": "stream",
     "text": [
      "\r",
      "Downloading weather forecast: 50%"
     ]
    },
    {
     "name": "stderr",
     "output_type": "stream",
     "text": [
      "2018-11-21 16:36:25,384.384 DEBUG:astra.GFS Updating Download progress: 75.0%% complete\n"
     ]
    },
    {
     "name": "stdout",
     "output_type": "stream",
     "text": [
      "\r",
      "Downloading weather forecast: 75%"
     ]
    },
    {
     "name": "stderr",
     "output_type": "stream",
     "text": [
      "2018-11-21 16:36:25,539.539 DEBUG:astra.GFS Updating Download progress: 100.0%% complete\n"
     ]
    },
    {
     "name": "stdout",
     "output_type": "stream",
     "text": [
      "\r",
      "Downloading weather forecast. 100%\n",
      "Weather downloaded.\n"
     ]
    },
    {
     "name": "stderr",
     "output_type": "stream",
     "text": [
      "2018-11-21 16:36:26,226.226 DEBUG:astra.GFS Forecast successfully downloaded!\n",
      "2018-11-21 16:36:26,227.227 DEBUG:astra.weather GFS data successfully downloaded.\n"
     ]
    }
   ],
   "source": [
    "simFlight = flight(environment=simEnvironment,\n",
    "                       balloonGasType='Helium',\n",
    "                       balloonModel='HW1600',\n",
    "                       nozzleLift=7.2,                                # kg\n",
    "                       payloadTrainWeight=5.4,                    # kg\n",
    "                       parachuteModel='SPH54',\n",
    "                       numberOfSimRuns=500,\n",
    "                       trainEquivSphereDiam=0.3,                    # m\n",
    "                       floatingFlight=False,\n",
    "                       excessPressureCoeff=1,\n",
    "                       #outputFile=os.path.join('.', 'astra_output'),\n",
    "                       outputFile= os.path.join('data', 'balloon_track' + '.kml'),\n",
    "                       debugging=False,\n",
    "                       log_to_file=True)"
   ]
  },
  {
   "cell_type": "markdown",
   "metadata": {},
   "source": []
  },
  {
   "cell_type": "code",
   "execution_count": 5,
   "metadata": {},
   "outputs": [
    {
     "name": "stdout",
     "output_type": "stream",
     "text": [
      "Preparing simulation\n",
      "The simulation is running. Current progress: 99%data\\balloon_track_markers.kml\n",
      "The simulation is running. Current progress: 100%\n",
      "Simulation completed.\n"
     ]
    }
   ],
   "source": [
    "simFlight.run()\n",
    "#simFlight.write_CSV(os.path.join('.', 'testing'))"
   ]
  },
  {
   "cell_type": "code",
   "execution_count": 6,
   "metadata": {
    "collapsed": true
   },
   "outputs": [],
   "source": [
    "kml_path = Path(os.path.join('data', 'balloon_track.kml'))\n",
    "mark_path = Path(os.path.join('data', 'balloon_track_markers.kml'))\n",
    "out_dir = Path('./results')\n",
    "    \n",
    "layers = kg.convert(kml_path, out_dir)\n",
    "marklayers = kg.convert(mark_path, out_dir)"
   ]
  },
  {
   "cell_type": "code",
   "execution_count": 7,
   "metadata": {},
   "outputs": [
    {
     "name": "stdout",
     "output_type": "stream",
     "text": [
      "\n"
     ]
    }
   ],
   "source": [
    "kw = {'location': [simEnvironment.launchSiteLat, simEnvironment.launchSiteLon], 'zoom_start': 8,}\n",
    "track = os.path.join('results', 'balloon_track.geojson')\n",
    "markers = os.path.join('results', 'balloon_track_markers.geojson')\n",
    "\n",
    "m = folium.Map(tiles='OpenStreetMap', **kw)\n",
    "\n",
    "style_function = lambda x: {'fillColor': '#00aaff'}\n",
    "\n",
    "tracks = folium.GeoJson(track, style_function)\n",
    "\n",
    "\n",
    "\n",
    "tracks.add_to(m)\n",
    "\n",
    "#marks = folium.GeoJson(markers)\n",
    "\n",
    "#marks.add_to(m)\n",
    "\n",
    "print()\n",
    "\n"
   ]
  },
  {
   "cell_type": "code",
   "execution_count": 8,
   "metadata": {
    "scrolled": true
   },
   "outputs": [
    {
     "data": {
      "text/plain": [
       "<folium.vector_layers.CircleMarker at 0x26418f82828>"
      ]
     },
     "execution_count": 8,
     "metadata": {},
     "output_type": "execute_result"
    }
   ],
   "source": [
    "with open(markers) as f:\n",
    "    landings = json.load(f)\n",
    "\n",
    "import pandas as pd\n",
    "\n",
    "impact = []\n",
    "lon = []\n",
    "lat = []\n",
    "lon_sum = 0\n",
    "lat_sum = 0\n",
    "\n",
    "for feature in landings['features']:\n",
    "    if feature['properties']['name'].find('landing') > 0:\n",
    "        coords = feature['geometry']['coordinates']\n",
    "        #print(coords)\n",
    "        impact.append([coords[1],coords[0]])\n",
    "        lon.append(coords[1])\n",
    "        lat.append(coords[0])\n",
    "        #llon.append(spot[1])\n",
    "        #print(coords)\n",
    "        lon_sum += coords[1]\n",
    "        lat_sum += coords[0]\n",
    "        \n",
    "lonerr = statistics.stdev(lon)\n",
    "laterr = statistics.stdev(lat)\n",
    "\n",
    "#print(laterr, lon)\n",
    "\n",
    "loncent = lon_sum / len(impact)\n",
    "latcent = lat_sum / len(impact)\n",
    "\n",
    "#print(impact)\n",
    "#print(loncent, latcent)\n",
    "#print(impact)\n",
    "   \n",
    "folium.CircleMarker([loncent,latcent], radius=10, color='black').add_to(m)"
   ]
  },
  {
   "cell_type": "code",
   "execution_count": 9,
   "metadata": {},
   "outputs": [
    {
     "data": {
      "text/plain": [
       "<folium.vector_layers.PolyLine at 0x26416851e48>"
      ]
     },
     "execution_count": 9,
     "metadata": {},
     "output_type": "execute_result"
    }
   ],
   "source": [
    "latp = []\n",
    "lonp = []\n",
    "\n",
    "latp.append([loncent-lonerr,latcent])\n",
    "latp.append([loncent+lonerr,latcent])\n",
    "lonp.append([loncent,latcent-laterr])\n",
    "lonp.append([loncent,latcent+laterr])\n",
    "\n",
    "folium.PolyLine(latp, color=\"green\", weight=2.5, opacity=1).add_to(m)\n",
    "folium.PolyLine(lonp, color=\"green\", weight=2.5, opacity=1).add_to(m)"
   ]
  },
  {
   "cell_type": "code",
   "execution_count": 10,
   "metadata": {},
   "outputs": [
    {
     "name": "stderr",
     "output_type": "stream",
     "text": [
      "IOPub data rate exceeded.\n",
      "The notebook server will temporarily stop sending output\n",
      "to the client in order to avoid crashing it.\n",
      "To change this limit, set the config variable\n",
      "`--NotebookApp.iopub_data_rate_limit`.\n"
     ]
    }
   ],
   "source": [
    "m"
   ]
  },
  {
   "cell_type": "code",
   "execution_count": 11,
   "metadata": {},
   "outputs": [
    {
     "data": {
      "text/html": [
       "<div style=\"width:100%;\"><div style=\"position:relative;width:100%;height:0;padding-bottom:60%;\"><iframe src=\"data:text/html;charset=utf-8;base64,PCFET0NUWVBFIGh0bWw+CjxoZWFkPiAgICAKICAgIDxtZXRhIGh0dHAtZXF1aXY9ImNvbnRlbnQtdHlwZSIgY29udGVudD0idGV4dC9odG1sOyBjaGFyc2V0PVVURi04IiAvPgogICAgPHNjcmlwdD5MX1BSRUZFUl9DQU5WQVM9ZmFsc2U7IExfTk9fVE9VQ0g9ZmFsc2U7IExfRElTQUJMRV8zRD1mYWxzZTs8L3NjcmlwdD4KICAgIDxzY3JpcHQgc3JjPSJodHRwczovL2Nkbi5qc2RlbGl2ci5uZXQvbnBtL2xlYWZsZXRAMS4yLjAvZGlzdC9sZWFmbGV0LmpzIj48L3NjcmlwdD4KICAgIDxzY3JpcHQgc3JjPSJodHRwczovL2FqYXguZ29vZ2xlYXBpcy5jb20vYWpheC9saWJzL2pxdWVyeS8xLjExLjEvanF1ZXJ5Lm1pbi5qcyI+PC9zY3JpcHQ+CiAgICA8c2NyaXB0IHNyYz0iaHR0cHM6Ly9tYXhjZG4uYm9vdHN0cmFwY2RuLmNvbS9ib290c3RyYXAvMy4yLjAvanMvYm9vdHN0cmFwLm1pbi5qcyI+PC9zY3JpcHQ+CiAgICA8c2NyaXB0IHNyYz0iaHR0cHM6Ly9jZG5qcy5jbG91ZGZsYXJlLmNvbS9hamF4L2xpYnMvTGVhZmxldC5hd2Vzb21lLW1hcmtlcnMvMi4wLjIvbGVhZmxldC5hd2Vzb21lLW1hcmtlcnMuanMiPjwvc2NyaXB0PgogICAgPGxpbmsgcmVsPSJzdHlsZXNoZWV0IiBocmVmPSJodHRwczovL2Nkbi5qc2RlbGl2ci5uZXQvbnBtL2xlYWZsZXRAMS4yLjAvZGlzdC9sZWFmbGV0LmNzcyIvPgogICAgPGxpbmsgcmVsPSJzdHlsZXNoZWV0IiBocmVmPSJodHRwczovL21heGNkbi5ib290c3RyYXBjZG4uY29tL2Jvb3RzdHJhcC8zLjIuMC9jc3MvYm9vdHN0cmFwLm1pbi5jc3MiLz4KICAgIDxsaW5rIHJlbD0ic3R5bGVzaGVldCIgaHJlZj0iaHR0cHM6Ly9tYXhjZG4uYm9vdHN0cmFwY2RuLmNvbS9ib290c3RyYXAvMy4yLjAvY3NzL2Jvb3RzdHJhcC10aGVtZS5taW4uY3NzIi8+CiAgICA8bGluayByZWw9InN0eWxlc2hlZXQiIGhyZWY9Imh0dHBzOi8vbWF4Y2RuLmJvb3RzdHJhcGNkbi5jb20vZm9udC1hd2Vzb21lLzQuNi4zL2Nzcy9mb250LWF3ZXNvbWUubWluLmNzcyIvPgogICAgPGxpbmsgcmVsPSJzdHlsZXNoZWV0IiBocmVmPSJodHRwczovL2NkbmpzLmNsb3VkZmxhcmUuY29tL2FqYXgvbGlicy9MZWFmbGV0LmF3ZXNvbWUtbWFya2Vycy8yLjAuMi9sZWFmbGV0LmF3ZXNvbWUtbWFya2Vycy5jc3MiLz4KICAgIDxsaW5rIHJlbD0ic3R5bGVzaGVldCIgaHJlZj0iaHR0cHM6Ly9yYXdnaXQuY29tL3B5dGhvbi12aXN1YWxpemF0aW9uL2ZvbGl1bS9tYXN0ZXIvZm9saXVtL3RlbXBsYXRlcy9sZWFmbGV0LmF3ZXNvbWUucm90YXRlLmNzcyIvPgogICAgPHN0eWxlPmh0bWwsIGJvZHkge3dpZHRoOiAxMDAlO2hlaWdodDogMTAwJTttYXJnaW46IDA7cGFkZGluZzogMDt9PC9zdHlsZT4KICAgIDxzdHlsZT4jbWFwIHtwb3NpdGlvbjphYnNvbHV0ZTt0b3A6MDtib3R0b206MDtyaWdodDowO2xlZnQ6MDt9PC9zdHlsZT4KICAgIAogICAgPHN0eWxlPiNtYXBfZjg3ODdkZWRiNzE2NGI1NmE1YjhmYTQ3YmQ2MzkwODIgewogICAgICAgIHBvc2l0aW9uOiByZWxhdGl2ZTsKICAgICAgICB3aWR0aDogMTAwLjAlOwogICAgICAgIGhlaWdodDogMTAwLjAlOwogICAgICAgIGxlZnQ6IDAuMCU7CiAgICAgICAgdG9wOiAwLjAlOwogICAgICAgIH0KICAgIDwvc3R5bGU+CiAgICA8c2NyaXB0IHNyYz0iaHR0cHM6Ly9sZWFmbGV0LmdpdGh1Yi5pby9MZWFmbGV0LmhlYXQvZGlzdC9sZWFmbGV0LWhlYXQuanMiPjwvc2NyaXB0Pgo8L2hlYWQ+Cjxib2R5PiAgICAKICAgIAogICAgPGRpdiBjbGFzcz0iZm9saXVtLW1hcCIgaWQ9Im1hcF9mODc4N2RlZGI3MTY0YjU2YTViOGZhNDdiZDYzOTA4MiIgPjwvZGl2Pgo8L2JvZHk+CjxzY3JpcHQ+ICAgIAogICAgCiAgICAKICAgICAgICB2YXIgYm91bmRzID0gbnVsbDsKICAgIAoKICAgIHZhciBtYXBfZjg3ODdkZWRiNzE2NGI1NmE1YjhmYTQ3YmQ2MzkwODIgPSBMLm1hcCgKICAgICAgICAnbWFwX2Y4Nzg3ZGVkYjcxNjRiNTZhNWI4ZmE0N2JkNjM5MDgyJywgewogICAgICAgIGNlbnRlcjogWzM1LjMwMDEzOTI5OTk5OTk4NCwgLTg5LjEzMDIxMjg0MDAwMDAzXSwKICAgICAgICB6b29tOiA4LAogICAgICAgIG1heEJvdW5kczogYm91bmRzLAogICAgICAgIGxheWVyczogW10sCiAgICAgICAgd29ybGRDb3B5SnVtcDogZmFsc2UsCiAgICAgICAgY3JzOiBMLkNSUy5FUFNHMzg1NywKICAgICAgICB6b29tQ29udHJvbDogdHJ1ZSwKICAgICAgICB9KTsKCiAgICAKICAgIAogICAgdmFyIHRpbGVfbGF5ZXJfN2M4ZTIxYmUxZjRiNDE3OWE5NGQwODRjNzY4YzYzYTQgPSBMLnRpbGVMYXllcigKICAgICAgICAnaHR0cHM6Ly97c30udGlsZS5vcGVuc3RyZWV0bWFwLm9yZy97en0ve3h9L3t5fS5wbmcnLAogICAgICAgIHsKICAgICAgICAiYXR0cmlidXRpb24iOiBudWxsLAogICAgICAgICJkZXRlY3RSZXRpbmEiOiBmYWxzZSwKICAgICAgICAibWF4TmF0aXZlWm9vbSI6IDE4LAogICAgICAgICJtYXhab29tIjogMTgsCiAgICAgICAgIm1pblpvb20iOiAwLAogICAgICAgICJub1dyYXAiOiBmYWxzZSwKICAgICAgICAic3ViZG9tYWlucyI6ICJhYmMiCn0pLmFkZFRvKG1hcF9mODc4N2RlZGI3MTY0YjU2YTViOGZhNDdiZDYzOTA4Mik7CiAgICAKICAgICAgICAgICAgdmFyIGhlYXRfbWFwXzk4ZDBiOWVhNGU2NDQ3YmFiYWNiOTI0YTg0OWM0NTdlID0gTC5oZWF0TGF5ZXIoCiAgICAgICAgICAgICAgICBbWzM1LjMwNzk5LCAtODkuMjA5NDFdLCBbMzUuMjYyNTcsIC04OS4zMTYzMl0sIFszNS4zMTg3MywgLTg5LjA3Nzc2XSwgWzM1LjI5NDE4LCAtODkuMjY1OV0sIFszNS4yODkwOSwgLTg4Ljk0MzE2XSwgWzM1LjI4MDY0LCAtODkuMDM3NThdLCBbMzUuMjk1MDgsIC04OS4xMDE5M10sIFszNS4yOTUzNCwgLTg5LjQxMzIyXSwgWzM1LjMwODM3LCAtODguODc2MjddLCBbMzUuMjcwNzEsIC04OS4wNjQwNV0sIFszNS4zMDExNiwgLTg5LjMyNTI2XSwgWzM1LjI5Njc0LCAtODkuMzMyNTJdLCBbMzUuMzExMTcsIC04OS4xOTcwM10sIFszNS4yOTYwMiwgLTg5LjA3ODY2XSwgWzM1LjI2MjcxLCAtODkuMTM1ODldLCBbMzUuMzIwNTksIC04OS4yMzcxM10sIFszNS4yODU3NSwgLTg5LjI4MTk3XSwgWzM1LjMwODA1LCAtODguOTcxODddLCBbMzUuMjc2ODEsIC04OS41NDI1NV0sIFszNS4zMTk3OSwgLTg4LjUwMzFdLCBbMzUuMjc5MiwgLTg5LjE4NTg4XSwgWzM1LjI3ODI5LCAtODkuMjU5NTJdLCBbMzUuMjk1LCAtODkuMTMyNDddLCBbMzUuMzM3NTUsIC04OC44MTI2OF0sIFszNS4zMDQyOSwgLTg5LjAxMTQ0XSwgWzM1LjMyMDY1LCAtODkuMjgxNTNdLCBbMzUuMzEzMzMsIC04OS4wMzM1OF0sIFszNS4zMDY4LCAtODguODQ1NV0sIFszNS4yOTc1MywgLTg5LjA3NDQxXSwgWzM1LjI1Njk4LCAtODkuMDY2NjddLCBbMzUuMzEzNzUsIC04OS4yNjA3MV0sIFszNS4zMTA5MSwgLTg5LjE5ODg3XSwgWzM1LjMsIC04OS4wODQ5XSwgWzM1LjMwOTg4LCAtODguOTMxNl0sIFszNS4zMjE3NiwgLTg4Ljk4NTI0XSwgWzM1LjMxMDcxLCAtODkuMTk4NDhdLCBbMzUuMjc3NSwgLTg5LjI3Nzc2XSwgWzM1LjMzNjY3LCAtODkuMDU5NTFdLCBbMzUuMjg3MzMsIC04OS4xNjQ4NF0sIFszNS4zMjAzNSwgLTg5LjA2NzU2XSwgWzM1LjMwMTQ1LCAtODkuMjkwMDddLCBbMzUuMjgyNzcsIC04OC45NjQ0N10sIFszNS4yOTQxMywgLTg5LjEzNjQzXSwgWzM1LjMzMTAzLCAtODkuMTU4MTldLCBbMzUuMjkwOTUsIC04OS4xMTkzMl0sIFszNS4zMDY4NSwgLTg5LjAwMzM2XSwgWzM1LjI5MjM5LCAtODkuMTE1N10sIFszNS4yOTQ5OCwgLTg5LjA2NTY5XSwgWzM1LjMwODY2LCAtODkuMjYzNjddLCBbMzUuMzI5NTUsIC04OC44MDY3M10sIFszNS4yNzQzMSwgLTg5LjIxNjA5XSwgWzM1LjI5OTUxLCAtODkuMDc4MjhdLCBbMzUuMzIwOTQsIC04OS4xODU4OV0sIFszNS4zMTE0OSwgLTg5LjIyNjY5XSwgWzM1LjMwNDE2LCAtODkuMjg0MjRdLCBbMzUuMzUyNjgsIC04OC43ODU4XSwgWzM1LjI5Nzc3LCAtODkuMDE2ODFdLCBbMzUuMjg3MTMsIC04OS4zMjc0OV0sIFszNS4yOTY2MiwgLTg5LjA1OTk1XSwgWzM1LjMxNzc1LCAtODkuMjk3NzJdLCBbMzUuMjc1OTYsIC04OS4yMDI5Nl0sIFszNS4zMDcxNSwgLTg5LjA5MTAzXSwgWzM1LjI4MDU4LCAtODguODgyNDNdLCBbMzUuMjg2MzksIC04OS4xMTI1Nl0sIFszNS4yNjU0OSwgLTg5LjA5OTA5XSwgWzM1LjMwNjExLCAtODkuMDM5Ml0sIFszNS4zMDQ3NiwgLTg5LjMxMzldLCBbMzUuMzE4NTMsIC04OS40MDE3XSwgWzM1LjMxMDEzLCAtODguOTI3MzRdLCBbMzUuMzI4NzIsIC04OS4wNDgxMV0sIFszNS4zMDczMSwgLTg5LjMxMDk2XSwgWzM1LjI5NzI3LCAtODkuMDA4OTRdLCBbMzUuMjQxOTUsIC04OS4zMDMxMV0sIFszNS4yNzQ3NCwgLTg5LjIwNjIyXSwgWzM1LjMwNjg4LCAtODkuMjAyMTRdLCBbMzUuMzE5NjEsIC04OC45NTcwNl0sIFszNS4yNzc2NSwgLTg5LjE2NjM3XSwgWzM1LjI5MTgsIC04OC44NjMzNF0sIFszNS4zMTkwNywgLTg5LjA5MDYzXSwgWzM1LjMwOTcsIC04OS4wNDc1OF0sIFszNS4zMzE1NiwgLTg5LjE4MTk1XSwgWzM1LjMxNjM3LCAtODkuMDQ5NDJdLCBbMzUuMjkwMDEsIC04OC45OTM3OV0sIFszNS4yNzc1LCAtODkuMjg2OF0sIFszNS4zMjQwNSwgLTg4Ljk4MzU4XSwgWzM1LjMyMDk4LCAtODkuMjE3MV0sIFszNS4zMDU0NCwgLTg4Ljk4MTldLCBbMzUuMjkwODIsIC04OS4xOTQ4NF0sIFszNS4zMDU2MSwgLTg5LjI0NDc1XSwgWzM1LjMxNDk0LCAtODkuMTkxNzVdLCBbMzUuMjU5MDEsIC04OS4wMjQzNl0sIFszNS4yNzg3NCwgLTg5LjI2OTk1XSwgWzM1LjI2MzMsIC04OS4yOTIwMV0sIFszNS4yNjQ4NSwgLTg4Ljk1Mjk2XSwgWzM1LjMxMjM4LCAtODkuMzE1MTRdLCBbMzUuMzAwNiwgLTg5LjExMDJdLCBbMzUuMzE1NDYsIC04OS4xMDI4N10sIFszNS4yODk2LCAtODkuMDE4MDNdLCBbMzUuMjg5MTksIC04OS4xNzg5OV0sIFszNS4yNjYxNSwgLTg5LjA4NTg5XSwgWzM1LjI2MTk5LCAtODkuMzQ3MjFdLCBbMzUuMjk4OTgsIC04OS4xMDExN10sIFszNS4zNTA3MiwgLTg4LjkyMzU4XSwgWzM1LjI5NzA0LCAtODkuMTc0XSwgWzM1LjMxMDQzLCAtODguNzI1NjZdLCBbMzUuMzMzMjgsIC04OS4wMzQzNF0sIFszNS4zMjI2MiwgLTg5LjMzNzc3XSwgWzM1LjI5MDYsIC04OS4xMTY3MV0sIFszNS4zMTI0NSwgLTg5LjI2Njk3XSwgWzM1LjI4NzI1LCAtODkuMjM0MjRdLCBbMzUuMzAxOTksIC04OS4xNzk2N10sIFszNS4yNTQ4LCAtODkuMjY1ODZdLCBbMzUuMjk2MjMsIC04OS4yMjY5Ml0sIFszNS4yNzEzMSwgLTg4Ljg2OTIzXSwgWzM1LjI1MzE0LCAtODkuMjI1MzNdLCBbMzUuMjgxMjMsIC04OS4yNDk1MV0sIFszNS4zMTEzNiwgLTg5LjI0OTU4XSwgWzM1LjMwNTE2LCAtODkuMjA5M10sIFszNS4zNDM1OCwgLTg5LjI4MzQ3XSwgWzM1LjI4ODY1LCAtODkuMDMyNF0sIFszNS4zMjE3NywgLTg5LjEwMjZdLCBbMzUuMjQ5NTUsIC04OS4zNjI2OF0sIFszNS4zMjMwNCwgLTg5LjE3NTc2XSwgWzM1LjMwNDg5LCAtODkuMjE2NzZdLCBbMzUuMzE2OTIsIC04OS4zMjA1XSwgWzM1LjI4ODMyLCAtODkuMDIxNzNdLCBbMzUuMzI2MDcsIC04OC45Njg5NF0sIFszNS4zMDUzOSwgLTg5LjIxNDFdLCBbMzUuMzE0MzcsIC04OS4xNjUwNl0sIFszNS4yNTAzOSwgLTg5LjM0MzQzXSwgWzM1LjI4MDczLCAtODkuMDIyMjFdLCBbMzUuMjk1NjQsIC04OS4xMTczNF0sIFszNS4yNzY0OCwgLTg5LjAzNjQ2XSwgWzM1LjI5MDI5LCAtODkuMDcwMDNdLCBbMzUuMjQ2OTYsIC04OS4zNDI1XSwgWzM1LjMxNjk4LCAtODkuMTMyNDFdLCBbMzUuMzI2MjQsIC04OS4wMzY2NF0sIFszNS4yODAyMSwgLTg5LjMxMjA1XSwgWzM1LjMzMjI1LCAtODkuMTI1NjldLCBbMzUuMzE1NDMsIC04OS4yMzA0MV0sIFszNS4zMzg4MiwgLTg5LjAwMTYxXSwgWzM1LjI2MjMsIC04OS4xMjQ0MV0sIFszNS4yOTgwMSwgLTg5LjAzOTU3XSwgWzM1LjMwMDI4LCAtODkuMDYwODZdLCBbMzUuMjc1MzksIC04OS4yMzY0N10sIFszNS4yNjgzLCAtODkuMTc1NzZdLCBbMzUuMjk5MywgLTg5LjM0MjExXSwgWzM1LjMwNzUzLCAtODguOTUyMDhdLCBbMzUuMzEyMjksIC04OS4yNTQyM10sIFszNS4zNDM4LCAtODkuMzU1NTldLCBbMzUuMjk4ODEsIC04OC45NzA5M10sIFszNS4zMDE0NywgLTg5LjE0NjUyXSwgWzM1LjMzNDEsIC04OS4xNTUwNl0sIFszNS4yOTQ5NSwgLTg5LjA3Njg3XSwgWzM1LjMxOTgzLCAtODkuMjczODddLCBbMzUuMzA4NTEsIC04OS4wNzMzMl0sIFszNS4yODAyMSwgLTg5LjI2MjE1XSwgWzM1LjMxNDkzLCAtODkuMDQwNDFdLCBbMzUuMjg1MzQsIC04OS4xNDUzN10sIFszNS4zMDA3LCAtODkuMDI4MTNdLCBbMzUuMjgzNjUsIC04OS4yNDc1N10sIFszNS4yNDczMSwgLTg5LjA2ODMzXSwgWzM1LjI1OTM2LCAtODkuMzAwNV0sIFszNS4yNTU1NywgLTg5LjI0MDQyXSwgWzM1LjMwOTcxLCAtODkuMTUyMDhdLCBbMzUuMzA2NjksIC04OS4wODAwMV0sIFszNS4zMzI2NiwgLTg5LjE0Mjg1XSwgWzM1LjI4ODc2LCAtODkuMDMyNjFdLCBbMzUuMzAzNjcsIC04OS4yMTUzXSwgWzM1LjMzMjk2LCAtODkuMjE2MTldLCBbMzUuMjkyMDYsIC04OS4xMjQ1OF0sIFszNS4zMTQ3MywgLTg5LjAyNjY4XSwgWzM1LjMxOTE3LCAtODguOTkyOTddLCBbMzUuMjc2NDUsIC04OS4yNDkxNl0sIFszNS4yODMxOSwgLTg5LjM1NDY0XSwgWzM1LjI3OTkyLCAtODkuMjU4NjhdLCBbMzUuMzAzMzUsIC04OS4wOTg4MV0sIFszNS4yNTYwMiwgLTg5LjM0Mjc4XSwgWzM1LjMxNTYxLCAtODguOTg5MDJdLCBbMzUuMzEzMzUsIC04OS4wNzAyN10sIFszNS4yNzA1NywgLTg5LjE2MDUxXSwgWzM1LjMwMTE3LCAtODguOTI4NzVdLCBbMzUuMjY4MDQsIC04OS40MDEzOV0sIFszNS4zMzIzNCwgLTg5LjEwNzMyXSwgWzM1LjI3OTYsIC04OS4zMjU3NV0sIFszNS4yOTYzNCwgLTg4Ljk0Njg2XSwgWzM1LjMyMjU3LCAtODkuMjUyNzNdLCBbMzUuMjU0NywgLTg5LjI2NjYyXSwgWzM1LjMxNzI0LCAtODkuMTYwODhdLCBbMzUuMzA2MDIsIC04OS4yMTE5Ml0sIFszNS4zMjMwNiwgLTg5LjA2MDQxXSwgWzM1LjI4OTk1LCAtODkuMjg0OTRdLCBbMzUuMzM5NTIsIC04OS4zMzEwNl0sIFszNS4yODc4NCwgLTg4LjkwOTYzXSwgWzM1LjI4MzA5LCAtODkuMTk0MzhdLCBbMzUuMzE4MzIsIC04OS4xMDQyNl0sIFszNS4zMTIxNCwgLTg5LjA1OTA0XSwgWzM1LjI4NDY1LCAtODkuMDE3NjhdLCBbMzUuMzE2MjMsIC04OS4yOTQxNF0sIFszNS4yNTA4NywgLTg5LjUwNjEzXSwgWzM1LjMwMzA5LCAtODkuMDY4ODVdLCBbMzUuMzM5NzQsIC04OC45OTc0Nl0sIFszNS4zMzU5OSwgLTg5LjI1ODk0XSwgWzM1LjI2MjQ2LCAtODkuMTQwMjRdLCBbMzUuMjk2NDIsIC04OS41NDUzNl0sIFszNS4yNzM2NywgLTg5LjA0MjgyXSwgWzM1LjI0NjQzLCAtODkuMjQ5NDhdLCBbMzUuMzE0MzgsIC04OS4xNDgzM10sIFszNS4zMTE4NiwgLTg5LjI5MjM5XSwgWzM1LjI4OTU1LCAtODkuMzY4MzddLCBbMzUuMjUxNzksIC04OS4zMzUxOV0sIFszNS4zMTM0OSwgLTg5LjAwMzA4XSwgWzM1LjMxMTE5LCAtODkuMTQ4NzZdLCBbMzUuMzEzNDEsIC04OS4xNDg0MV0sIFszNS4zMTc2LCAtODguODg1Ml0sIFszNS4yODk4MywgLTg5LjI1Mzg2XSwgWzM1LjMyNDY0LCAtODguODc4XSwgWzM1LjMwODcsIC04OC45MTM4Nl0sIFszNS4zMzQzOSwgLTg5LjAwMDA0XSwgWzM1LjMwNzk5LCAtODguOTE5N10sIFszNS4zNDU4OCwgLTg4Ljk3NTUzXSwgWzM1LjI2NzA3LCAtODkuMTQxNDhdLCBbMzUuMzM2NDMsIC04OS4xNjkxMV0sIFszNS4zMTU5LCAtODkuMTMzNDZdLCBbMzUuMjkyODIsIC04OS4xMzI5M10sIFszNS4yOTAxNSwgLTg5LjEyMl0sIFszNS4yNzIwMSwgLTg5LjA4Nzg3XSwgWzM1LjI5MjYzLCAtODkuMjY3NzZdLCBbMzUuMzI3NjMsIC04OC45NDk3M10sIFszNS4zMDA1MSwgLTg5LjA2NjE2XSwgWzM1LjI1NTk1LCAtODkuNDQ3OTldLCBbMzUuMzAyNTYsIC04OS4wODM5XSwgWzM1LjM0NDU3LCAtODguOTAyNzldLCBbMzUuMzAyNjgsIC04OS4xODI2OV0sIFszNS4yNzI1MiwgLTg5LjIwNTU0XSwgWzM1LjI1MjE4LCAtODkuMzMzMTVdLCBbMzUuMzI4OTYsIC04OS4wMDU3OV0sIFszNS4yODg1NiwgLTg5LjI4MjkxXSwgWzM1LjM0NTgxLCAtODguOTA4OTddLCBbMzUuMjU0NCwgLTg5LjE3NzExXSwgWzM1LjMwNzE3LCAtODkuMDg3MTJdLCBbMzUuMzAzMzUsIC04OS4xNDI0Nl0sIFszNS4yOTI5MywgLTg5LjEyNjA1XSwgWzM1LjI4NDk1LCAtODguOTg0NDhdLCBbMzUuMjk1NDMsIC04OS4zMDI5NF0sIFszNS4zMjIxLCAtODguNzU3MV0sIFszNS4yNzA3NSwgLTg5LjM5OV0sIFszNS4zMzQ4MiwgLTg5LjEyODY4XSwgWzM1LjMxNjY2LCAtODkuMzEyNTJdLCBbMzUuMjk0NzIsIC04OC45MjQwNF0sIFszNS4zMTE0NiwgLTg5LjMwNDk3XSwgWzM1LjMxNjY4LCAtODkuMTM1MzJdLCBbMzUuMzE2NDIsIC04OS4wMjU1Nl0sIFszNS4yNDQyLCAtODkuMzExNDFdLCBbMzUuMzEwMjgsIC04OS4wOTcyNF0sIFszNS4zMDE0OCwgLTg5LjE4OTA1XSwgWzM1LjI5NTM0LCAtODkuMTE1NjZdLCBbMzUuMzMsIC04OS4xMjU5M10sIFszNS4yNzYxMywgLTg5LjA2MDY2XSwgWzM1LjI5ODk4LCAtODkuMTY2MV0sIFszNS4zMTQyMSwgLTg5LjIzODAzXSwgWzM1LjMxMzUsIC04OS4yMzc4NV0sIFszNS4zMzAwOCwgLTg4LjkyODUzXSwgWzM1LjI3NDQ1LCAtODkuMjA3MzNdLCBbMzUuMzAyOTIsIC04OC45MDE3M10sIFszNS4yODUxNiwgLTg5LjE3NjAxXSwgWzM1LjMzNDkyLCAtODkuMjkxMl0sIFszNS4zMTU2NSwgLTg5LjIwNjU4XSwgWzM1LjI4NTU3LCAtODkuMjE4NDNdLCBbMzUuMzA1NDcsIC04OS4xNTU5M10sIFszNS4yODQ1OSwgLTg5LjMwOTM3XSwgWzM1LjMxNjI2LCAtODguOTQ1NV0sIFszNS4zMDUxNywgLTg5LjA2MDhdLCBbMzUuMzIyMzQsIC04OC44MTg1OF0sIFszNS4zMzY3LCAtODkuMTk5OTJdLCBbMzUuMjkxNDksIC04OS4xMDkxMV0sIFszNS4yOTI5OCwgLTg5LjA2NzUzXSwgWzM1LjI5NjAyLCAtODkuMjc0NDNdLCBbMzUuMjk1MjQsIC04OS4wMTQ0OV0sIFszNS4zMDEzNiwgLTg5LjEzNjA4XSwgWzM1LjI5MjA1LCAtODkuMzg3NjddLCBbMzUuMjkwODksIC04OS4xNDMyM10sIFszNS4yOTk1MywgLTg4Ljk5MTE2XSwgWzM1LjI1NDYyLCAtODkuMzk5OTJdLCBbMzUuMjk0NDYsIC04OC45OTMzNl0sIFszNS4zMjYzOCwgLTg5LjIwMjQyXSwgWzM1LjMxOTA0LCAtODkuMDA1NDhdLCBbMzUuMjkyMjgsIC04OS4yMTkyOV0sIFszNS4yOTU5MSwgLTg5LjEzODZdLCBbMzUuMjcwNzksIC04OS4xODM1N10sIFszNS4zMzc3MywgLTg5LjA0NDczXSwgWzM1LjM2MTcyLCAtODkuMTkwNDZdLCBbMzUuMjk1MDYsIC04OS4yMDA2N10sIFszNS4yNTM5OCwgLTg5LjM1MTE3XSwgWzM1LjI3OTQ0LCAtODkuMTc5NTVdLCBbMzUuMzAwNjEsIC04OC43NjU5OV0sIFszNS4yODMyMywgLTg5LjI0MjkyXSwgWzM1LjI4NjM3LCAtODguOTg2MzVdLCBbMzUuMjU3MywgLTg5LjAxODQ4XSwgWzM1LjI5MDkxLCAtODkuMTM4MTJdLCBbMzUuMzA2OTMsIC04OS4xMzMzXSwgWzM1LjI5NzM5LCAtODkuMDMzODJdLCBbMzUuMzI5MzgsIC04OS4xMzMyNF0sIFszNS4zMDA4MiwgLTg5LjMxNzY0XSwgWzM1LjMxMjg5LCAtODkuMTMxNDVdLCBbMzUuMzEwMTUsIC04OS4yMTQ4MV0sIFszNS4zMDUwNiwgLTg5LjA3MzY0XSwgWzM1LjMzMDAyLCAtODkuMjE3MjldLCBbMzUuMjg0OCwgLTg5LjI3OTZdLCBbMzUuMjg3MzYsIC04OC45MzgzMV0sIFszNS4yODc4MSwgLTg4Ljg5ODA1XSwgWzM1LjMwNDU4LCAtODguOTU5NDVdLCBbMzUuMzIyNjksIC04OS4wMTIzNV0sIFszNS4zMTIsIC04OS4wMDgzNF0sIFszNS4yODI3MSwgLTg5LjIwNzE4XSwgWzM1LjMyOTM5LCAtODkuMjYwMDZdLCBbMzUuMjcwODMsIC04OS4xNDhdLCBbMzUuMzA3NDYsIC04OS4xNDEwNl0sIFszNS4zMjU0LCAtODkuMzg1MzFdLCBbMzUuMzEwNDUsIC04OS4yMzUwMl0sIFszNS4yNjQ5OCwgLTg5LjE3MjExXSwgWzM1LjI2NzczLCAtODkuMDk3NDJdLCBbMzUuMjc1OTMsIC04OS4wNjgzMl0sIFszNS4yOTc2MSwgLTg5LjIyMjZdLCBbMzUuMjYyMTcsIC04OS4xNDMwNV0sIFszNS4yODI2OSwgLTg5LjMxODc1XSwgWzM1LjMxMjE1LCAtODkuMDYzMTldLCBbMzUuMjY0MDMsIC04OS4zMDA4Ml0sIFszNS4zMTg2OCwgLTg4Ljk3MzAyXSwgWzM1LjI5NjkxLCAtODkuMTUyMzldLCBbMzUuMjczNzMsIC04OS4yMTk3Ml0sIFszNS4zMTgyMywgLTg4LjkyMTk3XSwgWzM1LjMyODc0LCAtODkuMjkyODddLCBbMzUuMzA4NDIsIC04OS4yMzM1MV0sIFszNS4yOTY4MSwgLTg5LjA3ODc3XSwgWzM1LjI5ODExLCAtODkuMTY0OTZdLCBbMzUuMzM5NjIsIC04OC45NjUzMl0sIFszNS4zMDEzNiwgLTg5LjAzMjJdLCBbMzUuMzIxNjksIC04OS4xODQwNl0sIFszNS4yOTUyOCwgLTg4Ljk3NDM3XSwgWzM1LjI5NzU0LCAtODguOTE2NV0sIFszNS4yODQ4MywgLTg5LjIwMzQ4XSwgWzM1LjMyNzQ0LCAtODkuMDc2NTZdLCBbMzUuMjcwNTQsIC04OS4zMjQ5OV0sIFszNS4zMTAzOCwgLTg5LjM0MDc5XSwgWzM1LjI2OTI0LCAtODkuMTgzMDhdLCBbMzUuMjk2MDksIC04OS4wMzIwM10sIFszNS4zMDI4MiwgLTg5LjE5NjA0XSwgWzM1LjMxMjA1LCAtODkuMzAwOTddLCBbMzUuMjc4MjUsIC04OS4yNTUzMV0sIFszNS4yNzUwNCwgLTg4Ljk2MTUyXSwgWzM1LjI3NTQyLCAtODkuMjA0NDZdLCBbMzUuMjg0MDgsIC04OS4xMDkzOF0sIFszNS4zMTI1MywgLTg4LjkwMTY3XSwgWzM1LjI3MzQ2LCAtODkuMjEyMjZdLCBbMzUuMzA0NzksIC04OS4zMzY2Ml0sIFszNS4zMTYzMiwgLTg5LjIxMDkzXSwgWzM1LjMwMzAzLCAtODguOTM5MjhdLCBbMzUuMjg0NDMsIC04OS40NDU3NV0sIFszNS4zMzY2MiwgLTg4LjkzNjIyXSwgWzM1LjMxNDg1LCAtODguOTA1ODldLCBbMzUuMjkwNywgLTg4LjY5MjgzXSwgWzM1LjI4MzE1LCAtODkuMjkxNjldLCBbMzUuMzA2NDksIC04OS4wNDAyNl0sIFszNS4zNDQ2MywgLTg4Ljg5ODAzXSwgWzM1LjMyNTM1LCAtODguOTg1MTJdLCBbMzUuMzI1MjcsIC04OS4xNjAwN10sIFszNS4zMDAxMiwgLTg5LjA4NzI3XSwgWzM1LjMxODMzLCAtODkuMTUxNzZdLCBbMzUuMjg4NDksIC04OS4xMjEwMl0sIFszNS4yNjcyMiwgLTg5LjA4MjM5XSwgWzM1LjM0Nzk1LCAtODguOTg4NjldLCBbMzUuMzExMDcsIC04OS4wNTk1NV0sIFszNS4zMjc0MywgLTg4Ljk0Mjc4XSwgWzM1LjMwMzM3LCAtODkuMTY5MDZdLCBbMzUuMzIyNjcsIC04OS4wMTc5NV0sIFszNS4zMDczNiwgLTg5LjI2OTMyXSwgWzM1LjMwNTU3LCAtODguOTQ3NDldLCBbMzUuMjkwNTMsIC04OS4xMTg5MV0sIFszNS4yOTU1NywgLTg5LjEwNjEyXSwgWzM1LjMwNzU4LCAtODguOTUxNzRdLCBbMzUuMjk3NDYsIC04OS4wNjYzNl0sIFszNS4yNDU0NywgLTg5LjMwMDg4XSwgWzM1LjI4MTQyLCAtODkuMjQzM10sIFszNS4yNjg5NSwgLTg5LjMxNjI5XSwgWzM1LjMxNjE4LCAtODkuMDMwNTldLCBbMzUuMzE0OTEsIC04OS4xNDQ2XSwgWzM1LjI5MjE1LCAtODkuMDQyODZdLCBbMzUuMzExNDgsIC04OS4xNzQ4Nl0sIFszNS4zMDAxNywgLTg5LjE5NzU2XSwgWzM1LjI5ODYsIC04OS4wNDQ3Ml0sIFszNS4zNDI1LCAtODkuMTM5NDVdLCBbMzUuMzE0NjYsIC04OS4yMjI2OV0sIFszNS4yOTk3MSwgLTg5LjEyNDY0XSwgWzM1LjMyODM3LCAtODkuMDkwMzVdLCBbMzUuMjcwMDksIC04OS4yMjMwNF0sIFszNS4yNzA1MywgLTg5LjI4NjY3XSwgWzM1LjMzMTk3LCAtODkuMTkwMzZdLCBbMzUuMzEwODEsIC04OC41NDE0OV0sIFszNS4yNjkxNCwgLTg5LjA0MTUxXSwgWzM1LjMwNDU1LCAtODkuMDY5NDFdLCBbMzUuMzM0NzUsIC04OS4yMTk0XSwgWzM1LjI2NzYyLCAtODkuMTQ1NTRdLCBbMzUuMjkxMTcsIC04OS4xNTA3OF0sIFszNS4zMjQ5MiwgLTg4Ljg3NDU3XSwgWzM1LjMwNjQ3LCAtODkuMDM1MzNdLCBbMzUuMjQ0MzgsIC04OS4yNzM5OF0sIFszNS4zMDQ1NCwgLTg5LjExNDg4XSwgWzM1LjI5NTQyLCAtODkuMDU1NjJdLCBbMzUuMjk2MTEsIC04OS4wNzYxMV0sIFszNS4zMDYyNywgLTg5LjMwNzY2XSwgWzM1LjI3OTQ3LCAtODkuMDkwNzddLCBbMzUuMjc2MTksIC04OS4wOTc2Ml0sIFszNS4zMDI2NCwgLTg4LjkzMzA0XSwgWzM1LjMxNjIsIC04OC44ODExOF0sIFszNS4yODQ1LCAtODkuMDk0MjFdLCBbMzUuMjc2MTYsIC04OC45NDA0Nl0sIFszNS4zMzI4OCwgLTg4Ljk5MDAzXSwgWzM1LjMzOTY1LCAtODkuMTAwMTFdLCBbMzUuMzA5MSwgLTg5LjIwODQxXSwgWzM1LjMxOTQsIC04OS4xNjg2N10sIFszNS4zMTIzNCwgLTg5LjEwNzNdLCBbMzUuMzA0MTQsIC04OS4xNTQzXSwgWzM1LjMwNjIsIC04OS4xNDQ3N10sIFszNS4yNTU1NCwgLTg5LjM3NjQ5XSwgWzM1LjI5MDg2LCAtODkuMzY5NjddLCBbMzUuMzA4ODEsIC04OS4yODY5Ml0sIFszNS4yOTUwNywgLTg5LjE0MjY1XSwgWzM1LjI4ODQ1LCAtODkuMDExMDFdLCBbMzUuMzAyNjYsIC04OS4yOTAzNV0sIFszNS4yODk1NywgLTg5LjMwNjEzXSwgWzM1LjI2NDM3LCAtODkuMjcwNTddLCBbMzUuMzEwNzksIC04OS4wMjg3OF0sIFszNS4yODE0MSwgLTg5LjI4NDYxXSwgWzM1LjI3MDE0LCAtODkuNDg0Nl0sIFszNS4zMTE1NSwgLTg5LjA0NzZdLCBbMzUuMjgxNzcsIC04OS4yNDYwNF0sIFszNS4zMDY4MiwgLTg4LjkyNTAyXSwgWzM1LjI5NzUxLCAtODkuMTQ4NjJdLCBbMzUuMzExODksIC04OS4wODYzMV0sIFszNS4zMDQ2MywgLTg5LjIxMjE4XSwgWzM1LjMxOTk0LCAtODguOTUzOTldLCBbMzUuMzI0NDksIC04OS4xNDc1Nl0sIFszNS4zMTUwMywgLTg5LjAxNjY2XSwgWzM1LjI2MDYyLCAtODkuMjc1OTJdLCBbMzUuMzA5MTgsIC04OS4xOTI4OF0sIFszNS4zMzc3OSwgLTg5LjA5OTM2XSwgWzM1LjI3Njg4LCAtODkuNDA0NTZdLCBbMzUuMzA2NzUsIC04OC45NzhdLCBbMzUuMzEyMjgsIC04OS4yOTI3XSwgWzM1LjMwMjE2LCAtODkuMTQyXSwgWzM1LjI3NzMzLCAtODkuMjcwMl0sIFszNS4yOTYwMSwgLTg4Ljg4ODAzXSwgWzM1LjI3OTE4LCAtODkuMTk5MzJdLCBbMzUuMzI1MjQsIC04OC45NjgwM10sIFszNS4yNTE0MywgLTg5LjM4NTk4XSwgWzM1LjMxNzY3LCAtODguODM2OTVdLCBbMzUuMzIzMjEsIC04OS4zMDI4Ml0sIFszNS4zMDI2NCwgLTg5LjEyNjcxXSwgWzM1LjMyMTYzLCAtODkuMDYxODddLCBbMzUuMzM0MjUsIC04OS4yMTAyM10sIFszNS4zMjI3NywgLTg5LjAxOTkyXSwgWzM1LjI4NzgzLCAtODkuMjIzNzhdLCBbMzUuMjkwMjYsIC04OS4wOTA4MV0sIFszNS4yODQ2NywgLTg5LjAyMTcyXSwgWzM1LjI2NzgxLCAtODkuNjQ1M10sIFszNS4zMDQ2OSwgLTg5LjAzMzIzXSwgWzM1LjMxNjg1LCAtODkuMjAxNjFdLCBbMzUuMjY5OTMsIC04OS4wNTg2M10sIFszNS4yODg5OSwgLTg5LjA1NjM3XSwgWzM1LjMzMzIzLCAtODguOTY3MTVdLCBbMzUuMzM2MTMsIC04OS4xOTg0NF0sIFszNS4zMzE5NSwgLTg4Ljk2MzU3XSwgWzM1LjMwMjUsIC04OC45MDk3OF0sIFszNS4yOTU3NywgLTg4LjkyOTUxXSwgWzM1LjMyOTQ3LCAtODkuMTQ0NTZdLCBbMzUuMzE2MywgLTg5LjIwOTcyXSwgWzM1LjMzODA0LCAtODguODU4OTZdLCBbMzUuMjg2NjgsIC04OS4xNTA0N10sIFszNS4zMjkyMywgLTg4Ljk3MTI5XSwgWzM1LjI5NDQ3LCAtODkuMDg5MzldLCBbMzUuMzIzMjcsIC04OS4xMjgyNF0sIFszNS4yOTAwNCwgLTg4LjkxNjddLCBbMzUuMzE5NDYsIC04OC45NDM1M10sIFszNS4zNDg5OSwgLTg4Ljk5MzkxXSwgWzM1LjI3NzEyLCAtODkuMjI0OTFdLCBbMzUuMzA2MSwgLTg5LjExOTI5XSwgWzM1LjMyNjUsIC04OC44NDgwM10sIFszNS4zMTU1LCAtODkuMDgyNDldLCBbMzUuMzA1MDEsIC04OS4zMzQzXSwgWzM1LjMwNjEyLCAtODkuMDkxMTNdLCBbMzUuMzMxNDMsIC04OC44ODA5OF0sIFszNS4yNjg3NiwgLTg5LjUxNTFdLCBbMzUuMjM5NDgsIC04OS4yNzc4NV0sIFszNS4zMTEyNCwgLTg4Ljg0MDc3XSwgWzM1LjMyOTA5LCAtODguODczNTRdLCBbMzUuMjkyNjIsIC04OC45NjQxNV0sIFszNS4yNjgwOSwgLTg5LjQwMV0sIFszNS4yOTk5NSwgLTg5LjIyNjg1XSwgWzM1LjMwMDk2LCAtODkuMjI0OV1dLAogICAgICAgICAgICAgICAgewogICAgICAgICAgICAgICAgICAgIG1pbk9wYWNpdHk6IDAuNSwKICAgICAgICAgICAgICAgICAgICBtYXhab29tOiAxOCwKICAgICAgICAgICAgICAgICAgICBtYXg6IDEuMCwKICAgICAgICAgICAgICAgICAgICByYWRpdXM6IDI1LAogICAgICAgICAgICAgICAgICAgIGJsdXI6IDE1LAogICAgICAgICAgICAgICAgICAgIGdyYWRpZW50OiBudWxsCiAgICAgICAgICAgICAgICAgICAgfSkKICAgICAgICAgICAgICAgIC5hZGRUbyhtYXBfZjg3ODdkZWRiNzE2NGI1NmE1YjhmYTQ3YmQ2MzkwODIpOwogICAgICAgIAogICAgCiAgICAgICAgdmFyIG1hcmtlcl82ODJjMWFiZjhlOTk0NzdhOGZjY2I3ZDliN2NhM2ZhNCA9IEwubWFya2VyKAogICAgICAgICAgICBbMzUuMzAwMTM5Mjk5OTk5OTg0LCAtODkuMTMwMjEyODQwMDAwMDNdLAogICAgICAgICAgICB7CiAgICAgICAgICAgICAgICBpY29uOiBuZXcgTC5JY29uLkRlZmF1bHQoKQogICAgICAgICAgICAgICAgfQogICAgICAgICAgICApLmFkZFRvKG1hcF9mODc4N2RlZGI3MTY0YjU2YTViOGZhNDdiZDYzOTA4Mik7CiAgICAgICAgCjwvc2NyaXB0Pg==\" style=\"position:absolute;width:100%;height:100%;left:0;top:0;border:none !important;\" allowfullscreen webkitallowfullscreen mozallowfullscreen></iframe></div></div>"
      ],
      "text/plain": [
       "<folium.folium.Map at 0x26418c4cc50>"
      ]
     },
     "execution_count": 11,
     "metadata": {},
     "output_type": "execute_result"
    }
   ],
   "source": [
    "h = folium.Map(tiles='OpenStreetMap', location=[loncent,latcent], zoom_start=8,)\n",
    "\n",
    "HeatMap(impact).add_to(h)\n",
    "folium.Marker([loncent,latcent]).add_to(h)\n",
    "\n",
    "h"
   ]
  },
  {
   "cell_type": "code",
   "execution_count": null,
   "metadata": {
    "collapsed": true
   },
   "outputs": [],
   "source": []
  },
  {
   "cell_type": "code",
   "execution_count": null,
   "metadata": {
    "collapsed": true
   },
   "outputs": [],
   "source": []
  },
  {
   "cell_type": "code",
   "execution_count": 12,
   "metadata": {
    "collapsed": true
   },
   "outputs": [],
   "source": [
    "h.save(os.path.join('results', 'map.html'))\n"
   ]
  },
  {
   "cell_type": "code",
   "execution_count": null,
   "metadata": {
    "collapsed": true
   },
   "outputs": [],
   "source": []
  }
 ],
 "metadata": {
  "kernelspec": {
   "display_name": "Python 3",
   "language": "python",
   "name": "python3"
  },
  "language_info": {
   "codemirror_mode": {
    "name": "ipython",
    "version": 3
   },
   "file_extension": ".py",
   "mimetype": "text/x-python",
   "name": "python",
   "nbconvert_exporter": "python",
   "pygments_lexer": "ipython3",
   "version": "3.6.3"
  }
 },
 "nbformat": 4,
 "nbformat_minor": 2
}
